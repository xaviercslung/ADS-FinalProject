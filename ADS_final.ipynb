{
 "cells": [
  {
   "cell_type": "code",
   "execution_count": 1,
   "metadata": {},
   "outputs": [],
   "source": [
    "import pandas as pd\n",
    "import numpy as np\n",
    "import matplotlib.pyplot as plt"
   ]
  },
  {
   "cell_type": "code",
   "execution_count": 44,
   "metadata": {},
   "outputs": [],
   "source": [
    "# download dataset\n",
    "\n",
    "# !wget https://data.cityofnewyork.us/api/views/tqtj-sjs8/rows.csv?accessType=DOWNLOAD\n",
    "# !wget https://data.cityofnewyork.us/api/views/h9gi-nx95/rows.csv?accessType=DOWNLOAD&bom=true&query=select+*\n",
    "# !wget https://data.cityofnewyork.us/api/views/tqtj-sjs8/rows.csv?accessType=DOWNLOAD"
   ]
  },
  {
   "cell_type": "code",
   "execution_count": 45,
   "metadata": {},
   "outputs": [],
   "source": [
    "# motor_df = pd.read_csv('./data/Motor_Vehicle_Collisions_-_Person.csv')"
   ]
  },
  {
   "cell_type": "code",
   "execution_count": 46,
   "metadata": {},
   "outputs": [],
   "source": [
    "# motor_df.head()"
   ]
  },
  {
   "cell_type": "code",
   "execution_count": 47,
   "metadata": {},
   "outputs": [],
   "source": [
    "# motor_df['PED_LOCATION'].unique()"
   ]
  },
  {
   "cell_type": "code",
   "execution_count": 48,
   "metadata": {},
   "outputs": [],
   "source": [
    "# missingValue = motor_df.isna().sum().to_frame(name='NaN_number')\n",
    "# missingValue.sort_values('NaN_number',inplace=True,ascending=False)\n",
    "# missingValue.plot.bar(color='blue',figsize=(15,7))\n",
    "# plt.title('Missing Value of Motor Vehicle Collisions dataset',fontsize=15)\n",
    "# plt.legend()\n",
    "# plt.show()"
   ]
  },
  {
   "cell_type": "code",
   "execution_count": 8,
   "metadata": {},
   "outputs": [],
   "source": [
    "crash_df = pd.read_csv('./data/Motor_Vehicle_Collisions_-_Crashes.csv',dtype={'BOROUGH':str,'ZIP CODE':str})"
   ]
  },
  {
   "cell_type": "code",
   "execution_count": 6,
   "metadata": {},
   "outputs": [],
   "source": [
    "# crash_df.columns.unique().to_list()"
   ]
  },
  {
   "cell_type": "code",
   "execution_count": 9,
   "metadata": {},
   "outputs": [],
   "source": [
    "crash_df['CRASH DATE'] = pd.to_datetime(crash_df['CRASH DATE'])\n",
    "crash_df['CRASH DATE'].sort_values(ascending=False)\n",
    "crash_df['dow'] = pd.to_datetime(crash_df['CRASH DATE']).dt.dayofweek\n",
    "crash_df['day'] = pd.to_datetime(crash_df['CRASH DATE']).dt.day\n",
    "crash_df['year'] = pd.to_datetime(crash_df['CRASH DATE']).dt.year"
   ]
  },
  {
   "cell_type": "code",
   "execution_count": 10,
   "metadata": {},
   "outputs": [],
   "source": [
    "crash_df['Killed'] = crash_df['NUMBER OF PERSONS KILLED']+\\\n",
    "                        crash_df['NUMBER OF PEDESTRIANS KILLED']+crash_df['NUMBER OF CYCLIST KILLED']\n",
    "crash_df['Injured'] = crash_df['NUMBER OF PERSONS INJURED']+\\\n",
    "                        crash_df['NUMBER OF PEDESTRIANS INJURED']+crash_df['NUMBER OF CYCLIST INJURED']"
   ]
  },
  {
   "cell_type": "code",
   "execution_count": 21,
   "metadata": {},
   "outputs": [
    {
     "data": {
      "text/html": [
       "<div>\n",
       "<style scoped>\n",
       "    .dataframe tbody tr th:only-of-type {\n",
       "        vertical-align: middle;\n",
       "    }\n",
       "\n",
       "    .dataframe tbody tr th {\n",
       "        vertical-align: top;\n",
       "    }\n",
       "\n",
       "    .dataframe thead th {\n",
       "        text-align: right;\n",
       "    }\n",
       "</style>\n",
       "<table border=\"1\" class=\"dataframe\">\n",
       "  <thead>\n",
       "    <tr style=\"text-align: right;\">\n",
       "      <th></th>\n",
       "      <th>CRASH DATE</th>\n",
       "      <th>CRASH TIME</th>\n",
       "      <th>BOROUGH</th>\n",
       "      <th>ZIP CODE</th>\n",
       "      <th>LATITUDE</th>\n",
       "      <th>LONGITUDE</th>\n",
       "      <th>LOCATION</th>\n",
       "      <th>ON STREET NAME</th>\n",
       "      <th>CROSS STREET NAME</th>\n",
       "      <th>OFF STREET NAME</th>\n",
       "      <th>...</th>\n",
       "      <th>VEHICLE TYPE CODE 1</th>\n",
       "      <th>VEHICLE TYPE CODE 2</th>\n",
       "      <th>VEHICLE TYPE CODE 3</th>\n",
       "      <th>VEHICLE TYPE CODE 4</th>\n",
       "      <th>VEHICLE TYPE CODE 5</th>\n",
       "      <th>dow</th>\n",
       "      <th>day</th>\n",
       "      <th>year</th>\n",
       "      <th>Killed</th>\n",
       "      <th>Injured</th>\n",
       "    </tr>\n",
       "  </thead>\n",
       "  <tbody>\n",
       "    <tr>\n",
       "      <th>0</th>\n",
       "      <td>2020-03-13</td>\n",
       "      <td>11:00</td>\n",
       "      <td>NaN</td>\n",
       "      <td>NaN</td>\n",
       "      <td>40.655518</td>\n",
       "      <td>-74.00644</td>\n",
       "      <td>(40.655518, -74.00644)</td>\n",
       "      <td>3 AVENUE</td>\n",
       "      <td>NaN</td>\n",
       "      <td>NaN</td>\n",
       "      <td>...</td>\n",
       "      <td>Station Wagon/Sport Utility Vehicle</td>\n",
       "      <td>Tractor Truck Diesel</td>\n",
       "      <td>NaN</td>\n",
       "      <td>NaN</td>\n",
       "      <td>NaN</td>\n",
       "      <td>4</td>\n",
       "      <td>13</td>\n",
       "      <td>2020</td>\n",
       "      <td>0.0</td>\n",
       "      <td>0.0</td>\n",
       "    </tr>\n",
       "    <tr>\n",
       "      <th>1</th>\n",
       "      <td>2020-05-19</td>\n",
       "      <td>12:04</td>\n",
       "      <td>NaN</td>\n",
       "      <td>NaN</td>\n",
       "      <td>40.603070</td>\n",
       "      <td>-74.01667</td>\n",
       "      <td>(40.60307, -74.01667)</td>\n",
       "      <td>BELT PARKWAY</td>\n",
       "      <td>NaN</td>\n",
       "      <td>NaN</td>\n",
       "      <td>...</td>\n",
       "      <td>Station Wagon/Sport Utility Vehicle</td>\n",
       "      <td>Station Wagon/Sport Utility Vehicle</td>\n",
       "      <td>Sedan</td>\n",
       "      <td>NaN</td>\n",
       "      <td>NaN</td>\n",
       "      <td>1</td>\n",
       "      <td>19</td>\n",
       "      <td>2020</td>\n",
       "      <td>0.0</td>\n",
       "      <td>3.0</td>\n",
       "    </tr>\n",
       "    <tr>\n",
       "      <th>2</th>\n",
       "      <td>2020-04-09</td>\n",
       "      <td>23:45</td>\n",
       "      <td>BROOKLYN</td>\n",
       "      <td>11207</td>\n",
       "      <td>40.675526</td>\n",
       "      <td>-73.90132</td>\n",
       "      <td>(40.675526, -73.90132)</td>\n",
       "      <td>NaN</td>\n",
       "      <td>NaN</td>\n",
       "      <td>2517      ATLANTIC AVENUE</td>\n",
       "      <td>...</td>\n",
       "      <td>Sedan</td>\n",
       "      <td>Sedan</td>\n",
       "      <td>NaN</td>\n",
       "      <td>NaN</td>\n",
       "      <td>NaN</td>\n",
       "      <td>3</td>\n",
       "      <td>9</td>\n",
       "      <td>2020</td>\n",
       "      <td>0.0</td>\n",
       "      <td>2.0</td>\n",
       "    </tr>\n",
       "    <tr>\n",
       "      <th>3</th>\n",
       "      <td>2020-05-26</td>\n",
       "      <td>0:53</td>\n",
       "      <td>STATEN ISLAND</td>\n",
       "      <td>10306</td>\n",
       "      <td>40.574898</td>\n",
       "      <td>-74.09110</td>\n",
       "      <td>(40.574898, -74.0911)</td>\n",
       "      <td>OLYMPIA BOULEVARD</td>\n",
       "      <td>HUNTER AVENUE</td>\n",
       "      <td>NaN</td>\n",
       "      <td>...</td>\n",
       "      <td>Station Wagon/Sport Utility Vehicle</td>\n",
       "      <td>Pick-up Truck</td>\n",
       "      <td>NaN</td>\n",
       "      <td>NaN</td>\n",
       "      <td>NaN</td>\n",
       "      <td>1</td>\n",
       "      <td>26</td>\n",
       "      <td>2020</td>\n",
       "      <td>0.0</td>\n",
       "      <td>0.0</td>\n",
       "    </tr>\n",
       "    <tr>\n",
       "      <th>4</th>\n",
       "      <td>2020-03-14</td>\n",
       "      <td>15:30</td>\n",
       "      <td>BROOKLYN</td>\n",
       "      <td>11234</td>\n",
       "      <td>40.625633</td>\n",
       "      <td>-73.90917</td>\n",
       "      <td>(40.625633, -73.90917)</td>\n",
       "      <td>BERGEN AVENUE</td>\n",
       "      <td>ROYCE PLACE</td>\n",
       "      <td>NaN</td>\n",
       "      <td>...</td>\n",
       "      <td>Pick-up Truck</td>\n",
       "      <td>NaN</td>\n",
       "      <td>NaN</td>\n",
       "      <td>NaN</td>\n",
       "      <td>NaN</td>\n",
       "      <td>5</td>\n",
       "      <td>14</td>\n",
       "      <td>2020</td>\n",
       "      <td>0.0</td>\n",
       "      <td>0.0</td>\n",
       "    </tr>\n",
       "  </tbody>\n",
       "</table>\n",
       "<p>5 rows × 34 columns</p>\n",
       "</div>"
      ],
      "text/plain": [
       "  CRASH DATE CRASH TIME        BOROUGH ZIP CODE   LATITUDE  LONGITUDE  \\\n",
       "0 2020-03-13      11:00            NaN      NaN  40.655518  -74.00644   \n",
       "1 2020-05-19      12:04            NaN      NaN  40.603070  -74.01667   \n",
       "2 2020-04-09      23:45       BROOKLYN    11207  40.675526  -73.90132   \n",
       "3 2020-05-26       0:53  STATEN ISLAND    10306  40.574898  -74.09110   \n",
       "4 2020-03-14      15:30       BROOKLYN    11234  40.625633  -73.90917   \n",
       "\n",
       "                 LOCATION                    ON STREET NAME CROSS STREET NAME  \\\n",
       "0  (40.655518, -74.00644)  3 AVENUE                                       NaN   \n",
       "1   (40.60307, -74.01667)  BELT PARKWAY                                   NaN   \n",
       "2  (40.675526, -73.90132)                               NaN               NaN   \n",
       "3   (40.574898, -74.0911)  OLYMPIA BOULEVARD                    HUNTER AVENUE   \n",
       "4  (40.625633, -73.90917)  BERGEN AVENUE                          ROYCE PLACE   \n",
       "\n",
       "                            OFF STREET NAME  ...  \\\n",
       "0                                       NaN  ...   \n",
       "1                                       NaN  ...   \n",
       "2  2517      ATLANTIC AVENUE                 ...   \n",
       "3                                       NaN  ...   \n",
       "4                                       NaN  ...   \n",
       "\n",
       "                   VEHICLE TYPE CODE 1                  VEHICLE TYPE CODE 2  \\\n",
       "0  Station Wagon/Sport Utility Vehicle                 Tractor Truck Diesel   \n",
       "1  Station Wagon/Sport Utility Vehicle  Station Wagon/Sport Utility Vehicle   \n",
       "2                                Sedan                                Sedan   \n",
       "3  Station Wagon/Sport Utility Vehicle                        Pick-up Truck   \n",
       "4                        Pick-up Truck                                  NaN   \n",
       "\n",
       "   VEHICLE TYPE CODE 3  VEHICLE TYPE CODE 4  VEHICLE TYPE CODE 5  dow  day  \\\n",
       "0                  NaN                  NaN                  NaN    4   13   \n",
       "1                Sedan                  NaN                  NaN    1   19   \n",
       "2                  NaN                  NaN                  NaN    3    9   \n",
       "3                  NaN                  NaN                  NaN    1   26   \n",
       "4                  NaN                  NaN                  NaN    5   14   \n",
       "\n",
       "   year Killed Injured  \n",
       "0  2020    0.0     0.0  \n",
       "1  2020    0.0     3.0  \n",
       "2  2020    0.0     2.0  \n",
       "3  2020    0.0     0.0  \n",
       "4  2020    0.0     0.0  \n",
       "\n",
       "[5 rows x 34 columns]"
      ]
     },
     "execution_count": 21,
     "metadata": {},
     "output_type": "execute_result"
    }
   ],
   "source": [
    "crash_df.head()"
   ]
  },
  {
   "cell_type": "code",
   "execution_count": 20,
   "metadata": {},
   "outputs": [
    {
     "data": {
      "text/plain": [
       "CRASH DATE                             0\n",
       "CRASH TIME                             0\n",
       "BOROUGH                           541636\n",
       "ZIP CODE                          541847\n",
       "LATITUDE                          208858\n",
       "LONGITUDE                         208858\n",
       "LOCATION                          208858\n",
       "ON STREET NAME                    355423\n",
       "CROSS STREET NAME                 620171\n",
       "OFF STREET NAME                  1500153\n",
       "NUMBER OF PERSONS INJURED             18\n",
       "NUMBER OF PERSONS KILLED              31\n",
       "NUMBER OF PEDESTRIANS INJURED          0\n",
       "NUMBER OF PEDESTRIANS KILLED           0\n",
       "NUMBER OF CYCLIST INJURED              0\n",
       "NUMBER OF CYCLIST KILLED               0\n",
       "NUMBER OF MOTORIST INJURED             0\n",
       "NUMBER OF MOTORIST KILLED              0\n",
       "CONTRIBUTING FACTOR VEHICLE 1       4960\n",
       "CONTRIBUTING FACTOR VEHICLE 2     249675\n",
       "CONTRIBUTING FACTOR VEHICLE 3    1645038\n",
       "CONTRIBUTING FACTOR VEHICLE 4    1737783\n",
       "CONTRIBUTING FACTOR VEHICLE 5    1756567\n",
       "COLLISION_ID                           0\n",
       "VEHICLE TYPE CODE 1                 9289\n",
       "VEHICLE TYPE CODE 2               291858\n",
       "VEHICLE TYPE CODE 3              1648248\n",
       "VEHICLE TYPE CODE 4              1738496\n",
       "VEHICLE TYPE CODE 5              1756741\n",
       "dow                                    0\n",
       "day                                    0\n",
       "year                                   0\n",
       "Killed                                31\n",
       "Injured                               18\n",
       "dtype: int64"
      ]
     },
     "execution_count": 20,
     "metadata": {},
     "output_type": "execute_result"
    }
   ],
   "source": [
    "crash_df.isna().sum()"
   ]
  },
  {
   "cell_type": "code",
   "execution_count": 36,
   "metadata": {},
   "outputs": [
    {
     "data": {
      "text/plain": [
       "CRASH DATE                             0\n",
       "CRASH TIME                             0\n",
       "BOROUGH                           364392\n",
       "ZIP CODE                          364586\n",
       "LATITUDE                               0\n",
       "LONGITUDE                              0\n",
       "LOCATION                               0\n",
       "ON STREET NAME                    302160\n",
       "CROSS STREET NAME                 541378\n",
       "OFF STREET NAME                  1314233\n",
       "NUMBER OF PERSONS INJURED             16\n",
       "NUMBER OF PERSONS KILLED              28\n",
       "NUMBER OF PEDESTRIANS INJURED          0\n",
       "NUMBER OF PEDESTRIANS KILLED           0\n",
       "NUMBER OF CYCLIST INJURED              0\n",
       "NUMBER OF CYCLIST KILLED               0\n",
       "NUMBER OF MOTORIST INJURED             0\n",
       "NUMBER OF MOTORIST KILLED              0\n",
       "CONTRIBUTING FACTOR VEHICLE 1       4455\n",
       "CONTRIBUTING FACTOR VEHICLE 2     224480\n",
       "CONTRIBUTING FACTOR VEHICLE 3    1450701\n",
       "CONTRIBUTING FACTOR VEHICLE 4    1531858\n",
       "CONTRIBUTING FACTOR VEHICLE 5    1548388\n",
       "COLLISION_ID                           0\n",
       "VEHICLE TYPE CODE 1                 8329\n",
       "VEHICLE TYPE CODE 2               264514\n",
       "VEHICLE TYPE CODE 3              1453573\n",
       "VEHICLE TYPE CODE 4              1532494\n",
       "VEHICLE TYPE CODE 5              1548537\n",
       "dow                                    0\n",
       "day                                    0\n",
       "year                                   0\n",
       "Killed                                28\n",
       "Injured                               16\n",
       "dtype: int64"
      ]
     },
     "execution_count": 36,
     "metadata": {},
     "output_type": "execute_result"
    }
   ],
   "source": [
    "# TODO: Use latitude and longitude to get the borough name\n",
    "crash = crash_df[crash_df['LATITUDE'].notna()].copy()\n",
    "crash.isna().sum()"
   ]
  },
  {
   "cell_type": "code",
   "execution_count": 34,
   "metadata": {},
   "outputs": [],
   "source": [
    "# crash_year = crash_df[['year','COLLISION_ID','Killed','Injured']]\\\n",
    "#                 .groupby('year').agg({'COLLISION_ID':'count','Killed':'sum','Injured':'sum'})\\\n",
    "#                 .reset_index()\\\n",
    "#                 .rename(columns={'COLLISION_ID':'Number of Collsion'})\n",
    "# crash_year = crash_year[crash_year['year']!=2021]"
   ]
  },
  {
   "cell_type": "code",
   "execution_count": 58,
   "metadata": {},
   "outputs": [],
   "source": [
    "# plt.figure(figsize=(10,5))\n",
    "# plt.bar(crash_year.year,crash_year['Number of Collsion'],color='lightblue')\n",
    "# plt.title('Number of Collisions from 2012 to 2020',fontsize=20,color='white')\n",
    "# plt.ylabel('Collisions',fontsize=15,color='white')\n",
    "# plt.xticks(crash_year.year,fontsize=13,color='white')\n",
    "# plt.yticks(fontsize=13,color='white')\n",
    "# plt.grid(linestyle='--',axis='y')\n",
    "# plt.savefig('collisions',dpi=300)\n",
    "# plt.show()"
   ]
  },
  {
   "cell_type": "code",
   "execution_count": 59,
   "metadata": {},
   "outputs": [],
   "source": [
    "# plt.figure(figsize=(10,5))\n",
    "# plt.bar(crash_year.year,crash_year.Injured,color='lightblue')\n",
    "# plt.title('Number of Injuries from 2012 to 2020',fontsize=20,color='white')\n",
    "# plt.ylabel('Injuries',fontsize=15,color='white')\n",
    "# plt.xticks(crash_year.year,fontsize=13,color='white')\n",
    "# plt.yticks(fontsize=13,color='white')\n",
    "# plt.grid(linestyle='--',axis='y')\n",
    "# plt.savefig('injuries',dpi=300)\n",
    "# plt.show()"
   ]
  },
  {
   "cell_type": "code",
   "execution_count": 60,
   "metadata": {},
   "outputs": [],
   "source": [
    "# plt.figure(figsize=(10,5))\n",
    "# plt.bar(crash_year.year,crash_year.Killed,color='lightblue')\n",
    "# plt.title('Number of Fatalities from 2012 to 2020',fontsize=20,color='white')\n",
    "# plt.ylabel('Fatalities',fontsize=15,color='white')\n",
    "# plt.xticks(crash_year.year,fontsize=13,color='white')\n",
    "# plt.yticks(fontsize=13,color='white')\n",
    "# plt.grid(linestyle='--',axis='y')\n",
    "# plt.savefig('fatalities',dpi=300)\n",
    "# plt.show()"
   ]
  },
  {
   "cell_type": "code",
   "execution_count": 14,
   "metadata": {},
   "outputs": [],
   "source": [
    "# missing_value_crash = crash_df.isna().sum().to_frame(name='NaN_number')\n",
    "# missing_value_crash.sort_values('NaN_number',inplace=True,ascending=False)\n",
    "# missing_value_crash.plot.bar(color='blue',figsize=(15,7))\n",
    "# plt.title('Missing Value of Motor Vehicle Collisions dataset',fontsize=15)\n",
    "# plt.legend()\n",
    "# plt.show()"
   ]
  },
  {
   "cell_type": "code",
   "execution_count": 22,
   "metadata": {},
   "outputs": [
    {
     "name": "stderr",
     "output_type": "stream",
     "text": [
      "/home/valx/anaconda3/lib/python3.8/site-packages/IPython/core/interactiveshell.py:3146: DtypeWarning: Columns (3,4,8,14,20) have mixed types.Specify dtype option on import or set low_memory=False.\n",
      "  has_raised = await self.run_ast_nodes(code_ast.body, cell_name,\n"
     ]
    }
   ],
   "source": [
    "permit_df = pd.read_csv('./data/Street_Construction_Permits.csv', low_memory=True)"
   ]
  },
  {
   "cell_type": "code",
   "execution_count": 24,
   "metadata": {},
   "outputs": [
    {
     "data": {
      "text/plain": [
       "(10407640, 36)"
      ]
     },
     "execution_count": 24,
     "metadata": {},
     "output_type": "execute_result"
    }
   ],
   "source": [
    "permit_df.shape"
   ]
  },
  {
   "cell_type": "code",
   "execution_count": 23,
   "metadata": {},
   "outputs": [
    {
     "data": {
      "text/plain": [
       "PermitNumber                          0\n",
       "ApplicationTrackingID           6150227\n",
       "SequenceNumber                  5579305\n",
       "ApplicationTypeShortDesc        6150227\n",
       "PermitStatusID                      229\n",
       "PermitStatusShortDesc               229\n",
       "PermitSeriesID                        0\n",
       "PermitSeriesShortDesc                 0\n",
       "PermitTypeID                          0\n",
       "PermitTypeDesc                        0\n",
       "PermitNumberOfZones             3722517\n",
       "PermitLinearFeet                5425553\n",
       "PermitTotalSqFeet               8193368\n",
       "PermitEstimatedNumberOfCuts     6834771\n",
       "EquipmentTypeDesc               9798652\n",
       "NumberOfContainers             10292775\n",
       "NumberOfMiniContainers         10339616\n",
       "SpecificStipulations            4461181\n",
       "PreviousPermitNumber            7199019\n",
       "NextPermitNumber                7600226\n",
       "EmergencyIssueDate              9894586\n",
       "PermitIssueDate                   21802\n",
       "IssuedWorkStartDate               46342\n",
       "IssuedWorkEndDate                 59682\n",
       "BoroughName                      290964\n",
       "PermitHouseNumber               5889327\n",
       "OnStreetName                     306373\n",
       "FromStreetName                   306679\n",
       "ToStreetName                    1917186\n",
       "PermitteeName                         0\n",
       "PermitPurposeComments           5175693\n",
       "PermitLocationComments          5890732\n",
       "PavementShortDesc               4102946\n",
       "SideWalkShortDesc               4273091\n",
       "CreatedOn                             0\n",
       "ModifiedOn                            0\n",
       "dtype: int64"
      ]
     },
     "execution_count": 23,
     "metadata": {},
     "output_type": "execute_result"
    }
   ],
   "source": [
    "permit_df.isna().sum()"
   ]
  },
  {
   "cell_type": "code",
   "execution_count": 31,
   "metadata": {},
   "outputs": [],
   "source": [
    "permit = permit_df[(permit_df['BoroughName'].notna()) & (permit_df['OnStreetName'].notna())\\\n",
    "                & (permit_df['IssuedWorkStartDate'].notna()) & (permit_df['IssuedWorkEndDate'].notna())].copy()"
   ]
  },
  {
   "cell_type": "code",
   "execution_count": 33,
   "metadata": {},
   "outputs": [
    {
     "data": {
      "text/plain": [
       "(10096248, 36)"
      ]
     },
     "execution_count": 33,
     "metadata": {},
     "output_type": "execute_result"
    }
   ],
   "source": [
    "permit.shape"
   ]
  },
  {
   "cell_type": "code",
   "execution_count": 43,
   "metadata": {},
   "outputs": [],
   "source": [
    "# permit_df.columns.to_list()"
   ]
  },
  {
   "cell_type": "code",
   "execution_count": 42,
   "metadata": {},
   "outputs": [],
   "source": [
    "# permit_df['EmergencyIssueDate']"
   ]
  },
  {
   "cell_type": "code",
   "execution_count": 41,
   "metadata": {},
   "outputs": [],
   "source": [
    "# permit_df['CreatedOn'].str[0:10]"
   ]
  },
  {
   "cell_type": "code",
   "execution_count": 33,
   "metadata": {},
   "outputs": [],
   "source": [
    "# permit_df['CreatedOn'] = pd.to_datetime(permit_df['CreatedOn'].str[:10])"
   ]
  },
  {
   "cell_type": "code",
   "execution_count": 40,
   "metadata": {},
   "outputs": [],
   "source": [
    "# permit_df['CreatedOn'].sort_values(ascending=True)"
   ]
  },
  {
   "cell_type": "code",
   "execution_count": 35,
   "metadata": {},
   "outputs": [],
   "source": [
    "# permit_df['dow'] = pd.to_datetime(permit_df['CreatedOn']).dt.dayofweek\n",
    "# permit_df['day'] = pd.to_datetime(permit_df['CreatedOn']).dt.day\n",
    "# permit_df['year'] = pd.to_datetime(permit_df['CreatedOn']).dt.year"
   ]
  },
  {
   "cell_type": "code",
   "execution_count": 39,
   "metadata": {},
   "outputs": [],
   "source": [
    "# permit_year = permit_df[['year','PermitNumber']].groupby('year').count().reset_index()\n",
    "# permit_year.head()"
   ]
  },
  {
   "cell_type": "code",
   "execution_count": 38,
   "metadata": {},
   "outputs": [],
   "source": [
    "# plt.figure(figsize=(10,5))\n",
    "# plt.bar(crash_year.year,crash_year.Injured,color='lightblue')\n",
    "# plt.title('Number of Injuries from 2012 to 2020',fontsize=20,color='white')\n",
    "# plt.ylabel('Injuries',fontsize=15,color='white')\n",
    "# plt.xticks(crash_year.year,fontsize=13,color='white')\n",
    "# plt.yticks(fontsize=13,color='white')\n",
    "# plt.grid(linestyle='--',axis='y')\n",
    "# plt.savefig('injuries',dpi=300)\n",
    "# plt.show()"
   ]
  },
  {
   "cell_type": "code",
   "execution_count": 38,
   "metadata": {},
   "outputs": [],
   "source": [
    "# missing_value_permit = permit_df.isna().sum().to_frame(name='NaN_number')\n",
    "# missing_value_permit.sort_values('NaN_number',inplace=True,ascending=False)"
   ]
  },
  {
   "cell_type": "code",
   "execution_count": 37,
   "metadata": {},
   "outputs": [],
   "source": [
    "# missing_value_permit.plot.bar(color='blue',figsize=(15,7))\n",
    "# plt.title('Missing Value of Street Construction Permit dataset',fontsize=15)\n",
    "# plt.legend()\n",
    "# plt.show()"
   ]
  },
  {
   "cell_type": "code",
   "execution_count": 40,
   "metadata": {},
   "outputs": [],
   "source": [
    "# import pandas as pd\n",
    "# import numpy as np\n",
    "# #import geopandas as gpd\n",
    "# import dask.dataframe as dd\n",
    "# from dask.diagnostics import ProgressBar\n",
    "# from datetime import datetime\n",
    "# from matplotlib import pyplot as plt\n",
    "# import warnings\n",
    "# %matplotlib inline\n",
    "# warnings.filterwarnings('ignore')\n",
    "\n",
    "# permit_dd = dd.read_csv('./data/Street_Construction_Permits.csv',dtype=str)\n",
    "# permit_dd['CreatedOn'] = dd.to_datetime(permit_dd['CreatedOn'].str[:10])\n",
    "\n",
    "# permit_dd['dow'] = dd.to_datetime(permit_dd['CreatedOn']).dt.dayofweek\n",
    "# permit_dd['day'] = dd.to_datetime(permit_dd['CreatedOn']).dt.day\n",
    "# permit_dd['year'] = dd.to_datetime(permit_dd['CreatedOn']).dt.year\n",
    "\n",
    "# permit_year = permit_dd[['year','PermitNumber']].groupby('year').count().reset_index().compute()\n",
    "# permit_year['year']= permit_year[permit_year['year'] != '2021']\n",
    "# permit_year = permit_year[0:-1]\n",
    "# permit_year.year=permit_year['year'].astype(str)\n",
    "# permit_year.year = permit_year.year.str[:4]\n",
    "# permit_year = permit_year[1:].sort_values('year')\n",
    "\n",
    "# permit = permit_dd.compute()"
   ]
  },
  {
   "cell_type": "code",
   "execution_count": 61,
   "metadata": {},
   "outputs": [],
   "source": [
    "# plt.figure(figsize=(10,5))\n",
    "# plt.bar(permit_year.year,permit_year['PermitNumber'],color='lightblue')\n",
    "# plt.title('Number of Construction Permits from 2014 to 2020',fontsize=20,color='white')\n",
    "# plt.ylabel('Number of Permits',fontsize=15,color='white')\n",
    "# plt.xticks(permit_year.year,fontsize=13,color='white')\n",
    "# plt.yticks(fontsize=13,color='white')\n",
    "# plt.grid(linestyle='--',axis='y')\n",
    "# plt.savefig('permits',dpi=300)\n",
    "# plt.show()"
   ]
  },
  {
   "cell_type": "code",
   "execution_count": 57,
   "metadata": {},
   "outputs": [
    {
     "data": {
      "text/plain": [
       "628370.0"
      ]
     },
     "execution_count": 57,
     "metadata": {},
     "output_type": "execute_result"
    }
   ],
   "source": [
    "# permit_year['PermitNumber'].sum()/len(permit_year['PermitNumber'])"
   ]
  },
  {
   "cell_type": "code",
   "execution_count": null,
   "metadata": {},
   "outputs": [],
   "source": []
  },
  {
   "cell_type": "code",
   "execution_count": null,
   "metadata": {},
   "outputs": [],
   "source": []
  }
 ],
 "metadata": {
  "kernelspec": {
   "display_name": "Python 3",
   "language": "python",
   "name": "python3"
  },
  "language_info": {
   "codemirror_mode": {
    "name": "ipython",
    "version": 3
   },
   "file_extension": ".py",
   "mimetype": "text/x-python",
   "name": "python",
   "nbconvert_exporter": "python",
   "pygments_lexer": "ipython3",
   "version": "3.8.5"
  }
 },
 "nbformat": 4,
 "nbformat_minor": 4
}
