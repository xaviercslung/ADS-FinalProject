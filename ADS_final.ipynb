{
 "cells": [
  {
   "cell_type": "code",
   "execution_count": 1,
   "metadata": {},
   "outputs": [],
   "source": [
    "import pandas as pd\n",
    "import numpy as np\n",
    "import matplotlib.pyplot as plt"
   ]
  },
  {
   "cell_type": "code",
   "execution_count": 2,
   "metadata": {},
   "outputs": [],
   "source": [
    "# download dataset\n",
    "\n",
    "# !wget https://data.cityofnewyork.us/api/views/tqtj-sjs8/rows.csv?accessType=DOWNLOAD\n",
    "# !wget https://data.cityofnewyork.us/api/views/h9gi-nx95/rows.csv?accessType=DOWNLOAD&bom=true&query=select+*\n",
    "# !wget https://data.cityofnewyork.us/api/views/tqtj-sjs8/rows.csv?accessType=DOWNLOAD"
   ]
  },
  {
   "cell_type": "code",
   "execution_count": 3,
   "metadata": {},
   "outputs": [],
   "source": [
    "motor_df = pd.read_csv('./data/Motor_Vehicle_Collisions_-_Person.csv')"
   ]
  },
  {
   "cell_type": "code",
   "execution_count": 4,
   "metadata": {},
   "outputs": [
    {
     "data": {
      "text/html": [
       "<div>\n",
       "<style scoped>\n",
       "    .dataframe tbody tr th:only-of-type {\n",
       "        vertical-align: middle;\n",
       "    }\n",
       "\n",
       "    .dataframe tbody tr th {\n",
       "        vertical-align: top;\n",
       "    }\n",
       "\n",
       "    .dataframe thead th {\n",
       "        text-align: right;\n",
       "    }\n",
       "</style>\n",
       "<table border=\"1\" class=\"dataframe\">\n",
       "  <thead>\n",
       "    <tr style=\"text-align: right;\">\n",
       "      <th></th>\n",
       "      <th>UNIQUE_ID</th>\n",
       "      <th>COLLISION_ID</th>\n",
       "      <th>CRASH_DATE</th>\n",
       "      <th>CRASH_TIME</th>\n",
       "      <th>PERSON_ID</th>\n",
       "      <th>PERSON_TYPE</th>\n",
       "      <th>PERSON_INJURY</th>\n",
       "      <th>VEHICLE_ID</th>\n",
       "      <th>PERSON_AGE</th>\n",
       "      <th>EJECTION</th>\n",
       "      <th>...</th>\n",
       "      <th>BODILY_INJURY</th>\n",
       "      <th>POSITION_IN_VEHICLE</th>\n",
       "      <th>SAFETY_EQUIPMENT</th>\n",
       "      <th>PED_LOCATION</th>\n",
       "      <th>PED_ACTION</th>\n",
       "      <th>COMPLAINT</th>\n",
       "      <th>PED_ROLE</th>\n",
       "      <th>CONTRIBUTING_FACTOR_1</th>\n",
       "      <th>CONTRIBUTING_FACTOR_2</th>\n",
       "      <th>PERSON_SEX</th>\n",
       "    </tr>\n",
       "  </thead>\n",
       "  <tbody>\n",
       "    <tr>\n",
       "      <th>0</th>\n",
       "      <td>10249006</td>\n",
       "      <td>4229554</td>\n",
       "      <td>10/26/2019</td>\n",
       "      <td>9:43</td>\n",
       "      <td>31aa2bc0-f545-444f-8cdb-f1cb5cf00b89</td>\n",
       "      <td>Occupant</td>\n",
       "      <td>Unspecified</td>\n",
       "      <td>19141108.0</td>\n",
       "      <td>NaN</td>\n",
       "      <td>NaN</td>\n",
       "      <td>...</td>\n",
       "      <td>NaN</td>\n",
       "      <td>NaN</td>\n",
       "      <td>NaN</td>\n",
       "      <td>NaN</td>\n",
       "      <td>NaN</td>\n",
       "      <td>NaN</td>\n",
       "      <td>Registrant</td>\n",
       "      <td>NaN</td>\n",
       "      <td>NaN</td>\n",
       "      <td>U</td>\n",
       "    </tr>\n",
       "    <tr>\n",
       "      <th>1</th>\n",
       "      <td>10255054</td>\n",
       "      <td>4230587</td>\n",
       "      <td>10/25/2019</td>\n",
       "      <td>15:15</td>\n",
       "      <td>4629e500-a73e-48dc-b8fb-53124d124b80</td>\n",
       "      <td>Occupant</td>\n",
       "      <td>Unspecified</td>\n",
       "      <td>19144075.0</td>\n",
       "      <td>33.0</td>\n",
       "      <td>Not Ejected</td>\n",
       "      <td>...</td>\n",
       "      <td>Does Not Apply</td>\n",
       "      <td>Front passenger, if two or more persons, inclu...</td>\n",
       "      <td>Lap Belt &amp; Harness</td>\n",
       "      <td>NaN</td>\n",
       "      <td>NaN</td>\n",
       "      <td>Does Not Apply</td>\n",
       "      <td>Passenger</td>\n",
       "      <td>NaN</td>\n",
       "      <td>NaN</td>\n",
       "      <td>F</td>\n",
       "    </tr>\n",
       "    <tr>\n",
       "      <th>2</th>\n",
       "      <td>10253177</td>\n",
       "      <td>4230550</td>\n",
       "      <td>10/26/2019</td>\n",
       "      <td>17:55</td>\n",
       "      <td>ae48c136-1383-45db-83f4-2a5eecfb7cff</td>\n",
       "      <td>Occupant</td>\n",
       "      <td>Unspecified</td>\n",
       "      <td>19143133.0</td>\n",
       "      <td>55.0</td>\n",
       "      <td>NaN</td>\n",
       "      <td>...</td>\n",
       "      <td>NaN</td>\n",
       "      <td>NaN</td>\n",
       "      <td>NaN</td>\n",
       "      <td>NaN</td>\n",
       "      <td>NaN</td>\n",
       "      <td>NaN</td>\n",
       "      <td>Registrant</td>\n",
       "      <td>NaN</td>\n",
       "      <td>NaN</td>\n",
       "      <td>M</td>\n",
       "    </tr>\n",
       "    <tr>\n",
       "      <th>3</th>\n",
       "      <td>6650180</td>\n",
       "      <td>3565527</td>\n",
       "      <td>11/21/2016</td>\n",
       "      <td>13:05</td>\n",
       "      <td>2782525</td>\n",
       "      <td>Occupant</td>\n",
       "      <td>Unspecified</td>\n",
       "      <td>NaN</td>\n",
       "      <td>NaN</td>\n",
       "      <td>NaN</td>\n",
       "      <td>...</td>\n",
       "      <td>NaN</td>\n",
       "      <td>NaN</td>\n",
       "      <td>NaN</td>\n",
       "      <td>NaN</td>\n",
       "      <td>NaN</td>\n",
       "      <td>NaN</td>\n",
       "      <td>Notified Person</td>\n",
       "      <td>NaN</td>\n",
       "      <td>NaN</td>\n",
       "      <td>NaN</td>\n",
       "    </tr>\n",
       "    <tr>\n",
       "      <th>4</th>\n",
       "      <td>10255516</td>\n",
       "      <td>4231168</td>\n",
       "      <td>10/25/2019</td>\n",
       "      <td>11:16</td>\n",
       "      <td>e038e18f-40fb-4471-99cf-345eae36e064</td>\n",
       "      <td>Occupant</td>\n",
       "      <td>Unspecified</td>\n",
       "      <td>19144329.0</td>\n",
       "      <td>7.0</td>\n",
       "      <td>Not Ejected</td>\n",
       "      <td>...</td>\n",
       "      <td>Does Not Apply</td>\n",
       "      <td>Right rear passenger or motorcycle sidecar pas...</td>\n",
       "      <td>Lap Belt</td>\n",
       "      <td>NaN</td>\n",
       "      <td>NaN</td>\n",
       "      <td>Does Not Apply</td>\n",
       "      <td>Passenger</td>\n",
       "      <td>NaN</td>\n",
       "      <td>NaN</td>\n",
       "      <td>F</td>\n",
       "    </tr>\n",
       "  </tbody>\n",
       "</table>\n",
       "<p>5 rows × 21 columns</p>\n",
       "</div>"
      ],
      "text/plain": [
       "   UNIQUE_ID  COLLISION_ID  CRASH_DATE CRASH_TIME  \\\n",
       "0   10249006       4229554  10/26/2019       9:43   \n",
       "1   10255054       4230587  10/25/2019      15:15   \n",
       "2   10253177       4230550  10/26/2019      17:55   \n",
       "3    6650180       3565527  11/21/2016      13:05   \n",
       "4   10255516       4231168  10/25/2019      11:16   \n",
       "\n",
       "                              PERSON_ID PERSON_TYPE PERSON_INJURY  VEHICLE_ID  \\\n",
       "0  31aa2bc0-f545-444f-8cdb-f1cb5cf00b89    Occupant   Unspecified  19141108.0   \n",
       "1  4629e500-a73e-48dc-b8fb-53124d124b80    Occupant   Unspecified  19144075.0   \n",
       "2  ae48c136-1383-45db-83f4-2a5eecfb7cff    Occupant   Unspecified  19143133.0   \n",
       "3                               2782525    Occupant   Unspecified         NaN   \n",
       "4  e038e18f-40fb-4471-99cf-345eae36e064    Occupant   Unspecified  19144329.0   \n",
       "\n",
       "   PERSON_AGE     EJECTION  ...   BODILY_INJURY  \\\n",
       "0         NaN          NaN  ...             NaN   \n",
       "1        33.0  Not Ejected  ...  Does Not Apply   \n",
       "2        55.0          NaN  ...             NaN   \n",
       "3         NaN          NaN  ...             NaN   \n",
       "4         7.0  Not Ejected  ...  Does Not Apply   \n",
       "\n",
       "                                 POSITION_IN_VEHICLE    SAFETY_EQUIPMENT  \\\n",
       "0                                                NaN                 NaN   \n",
       "1  Front passenger, if two or more persons, inclu...  Lap Belt & Harness   \n",
       "2                                                NaN                 NaN   \n",
       "3                                                NaN                 NaN   \n",
       "4  Right rear passenger or motorcycle sidecar pas...            Lap Belt   \n",
       "\n",
       "  PED_LOCATION PED_ACTION       COMPLAINT         PED_ROLE  \\\n",
       "0          NaN        NaN             NaN       Registrant   \n",
       "1          NaN        NaN  Does Not Apply        Passenger   \n",
       "2          NaN        NaN             NaN       Registrant   \n",
       "3          NaN        NaN             NaN  Notified Person   \n",
       "4          NaN        NaN  Does Not Apply        Passenger   \n",
       "\n",
       "  CONTRIBUTING_FACTOR_1 CONTRIBUTING_FACTOR_2 PERSON_SEX  \n",
       "0                   NaN                   NaN          U  \n",
       "1                   NaN                   NaN          F  \n",
       "2                   NaN                   NaN          M  \n",
       "3                   NaN                   NaN        NaN  \n",
       "4                   NaN                   NaN          F  \n",
       "\n",
       "[5 rows x 21 columns]"
      ]
     },
     "execution_count": 4,
     "metadata": {},
     "output_type": "execute_result"
    }
   ],
   "source": [
    "motor_df.head()"
   ]
  },
  {
   "cell_type": "code",
   "execution_count": 5,
   "metadata": {},
   "outputs": [
    {
     "data": {
      "text/plain": [
       "array([nan, 'Pedestrian/Bicyclist/Other Pedestrian at Intersection',\n",
       "       'Pedestrian/Bicyclist/Other Pedestrian Not at Intersection',\n",
       "       'Unknown', 'Does Not Apply'], dtype=object)"
      ]
     },
     "execution_count": 5,
     "metadata": {},
     "output_type": "execute_result"
    }
   ],
   "source": [
    "motor_df['PED_LOCATION'].unique()"
   ]
  },
  {
   "cell_type": "code",
   "execution_count": 6,
   "metadata": {},
   "outputs": [],
   "source": [
    "missingValue = motor_df.isna().sum().to_frame(name='NaN_number')"
   ]
  },
  {
   "cell_type": "code",
   "execution_count": 7,
   "metadata": {},
   "outputs": [],
   "source": [
    "missingValue.sort_values('NaN_number',inplace=True,ascending=False)"
   ]
  },
  {
   "cell_type": "code",
   "execution_count": 8,
   "metadata": {},
   "outputs": [
    {
     "data": {
      "image/png": "[encoded data removed]",
      "text/plain": [
       "<Figure size 1080x504 with 1 Axes>"
      ]
     },
     "metadata": {
      "needs_background": "light"
     },
     "output_type": "display_data"
    }
   ],
   "source": [
    "missingValue.plot.bar(color='blue',figsize=(15,7))\n",
    "plt.title('Missing Value of Motor Vehicle Collisions dataset',fontsize=15)\n",
    "plt.legend()\n",
    "plt.show()"
   ]
  },
  {
   "cell_type": "code",
   "execution_count": 9,
   "metadata": {},
   "outputs": [],
   "source": [
    "crash_df = pd.read_csv('./data/Motor_Vehicle_Collisions_-_Crashes.csv',dtype={'BOROUGH':str,'ZIP CODE':str})"
   ]
  },
  {
   "cell_type": "code",
   "execution_count": 10,
   "metadata": {},
   "outputs": [
    {
     "data": {
      "text/plain": [
       "['CRASH DATE',\n",
       " 'CRASH TIME',\n",
       " 'BOROUGH',\n",
       " 'ZIP CODE',\n",
       " 'LATITUDE',\n",
       " 'LONGITUDE',\n",
       " 'LOCATION',\n",
       " 'ON STREET NAME',\n",
       " 'CROSS STREET NAME',\n",
       " 'OFF STREET NAME',\n",
       " 'NUMBER OF PERSONS INJURED',\n",
       " 'NUMBER OF PERSONS KILLED',\n",
       " 'NUMBER OF PEDESTRIANS INJURED',\n",
       " 'NUMBER OF PEDESTRIANS KILLED',\n",
       " 'NUMBER OF CYCLIST INJURED',\n",
       " 'NUMBER OF CYCLIST KILLED',\n",
       " 'NUMBER OF MOTORIST INJURED',\n",
       " 'NUMBER OF MOTORIST KILLED',\n",
       " 'CONTRIBUTING FACTOR VEHICLE 1',\n",
       " 'CONTRIBUTING FACTOR VEHICLE 2',\n",
       " 'CONTRIBUTING FACTOR VEHICLE 3',\n",
       " 'CONTRIBUTING FACTOR VEHICLE 4',\n",
       " 'CONTRIBUTING FACTOR VEHICLE 5',\n",
       " 'COLLISION_ID',\n",
       " 'VEHICLE TYPE CODE 1',\n",
       " 'VEHICLE TYPE CODE 2',\n",
       " 'VEHICLE TYPE CODE 3',\n",
       " 'VEHICLE TYPE CODE 4',\n",
       " 'VEHICLE TYPE CODE 5']"
      ]
     },
     "execution_count": 10,
     "metadata": {},
     "output_type": "execute_result"
    }
   ],
   "source": [
    "crash_df.columns.unique().to_list()"
   ]
  },
  {
   "cell_type": "code",
   "execution_count": 11,
   "metadata": {},
   "outputs": [
    {
     "data": {
      "text/plain": [
       "50293     2021-03-16\n",
       "50660     2021-03-16\n",
       "55054     2021-03-16\n",
       "56933     2021-03-16\n",
       "52677     2021-03-16\n",
       "             ...    \n",
       "1753106   2012-07-01\n",
       "1753107   2012-07-01\n",
       "1761450   2012-07-01\n",
       "1761456   2012-07-01\n",
       "1762215   2012-07-01\n",
       "Name: CRASH DATE, Length: 1763208, dtype: datetime64[ns]"
      ]
     },
     "execution_count": 11,
     "metadata": {},
     "output_type": "execute_result"
    }
   ],
   "source": [
    "crash_df['CRASH DATE'] = pd.to_datetime(crash_df['CRASH DATE'])\n",
    "crash_df['CRASH DATE'].sort_values(ascending=False)"
   ]
  },
  {
   "cell_type": "code",
   "execution_count": 12,
   "metadata": {},
   "outputs": [],
   "source": [
    "crash_df['dow'] = pd.to_datetime(crash_df['CRASH DATE']).dt.dayofweek\n",
    "crash_df['day'] = pd.to_datetime(crash_df['CRASH DATE']).dt.day\n",
    "crash_df['year'] = pd.to_datetime(crash_df['CRASH DATE']).dt.year"
   ]
  },
  {
   "cell_type": "code",
   "execution_count": 13,
   "metadata": {},
   "outputs": [],
   "source": [
    "crash_df['Killed'] = crash_df['NUMBER OF PERSONS KILLED']+\\\n",
    "                        crash_df['NUMBER OF PEDESTRIANS KILLED']+crash_df['NUMBER OF CYCLIST KILLED']"
   ]
  },
  {
   "cell_type": "code",
   "execution_count": 14,
   "metadata": {},
   "outputs": [],
   "source": [
    "crash_df['Injured'] = crash_df['NUMBER OF PERSONS INJURED']+\\\n",
    "                        crash_df['NUMBER OF PEDESTRIANS INJURED']+crash_df['NUMBER OF CYCLIST INJURED']"
   ]
  },
  {
   "cell_type": "code",
   "execution_count": 15,
   "metadata": {},
   "outputs": [],
   "source": [
    "crash_year = crash_df[['year','COLLISION_ID','Killed','Injured']]\\\n",
    "                .groupby('year').agg({'COLLISION_ID':'count','Killed':'sum','Injured':'sum'})\\\n",
    "                .reset_index()\\\n",
    "                .rename(columns={'COLLISION_ID':'Number of Collsion'})"
   ]
  },
  {
   "cell_type": "code",
   "execution_count": 16,
   "metadata": {},
   "outputs": [],
   "source": [
    "crash_year = crash_year[crash_year['year']!=2021]"
   ]
  },
  {
   "cell_type": "code",
   "execution_count": 17,
   "metadata": {},
   "outputs": [
    {
     "data": {
      "text/plain": [
       "0    2012\n",
       "1    2013\n",
       "2    2014\n",
       "3    2015\n",
       "4    2016\n",
       "5    2017\n",
       "6    2018\n",
       "7    2019\n",
       "8    2020\n",
       "Name: year, dtype: int64"
      ]
     },
     "execution_count": 17,
     "metadata": {},
     "output_type": "execute_result"
    }
   ],
   "source": [
    "crash_year.year"
   ]
  },
  {
   "cell_type": "code",
   "execution_count": 18,
   "metadata": {},
   "outputs": [
    {
     "data": {
      "image/png": "[encoded data removed]",
      "text/plain": [
       "<Figure size 720x360 with 1 Axes>"
      ]
     },
     "metadata": {
      "needs_background": "dark"
     },
     "output_type": "display_data"
    }
   ],
   "source": [
    "plt.figure(figsize=(10,5))\n",
    "plt.bar(crash_year.year,crash_year['Number of Collsion'],color='lightblue')\n",
    "plt.title('Number of Collisions from 2012 to 2020',fontsize=20,color='white')\n",
    "plt.ylabel('Collisions',fontsize=15,color='white')\n",
    "plt.xticks(crash_year.year,fontsize=13,color='white')\n",
    "plt.yticks(fontsize=13,color='white')\n",
    "plt.grid(linestyle='--',axis='y')\n",
    "plt.savefig('collisions',dpi=300)\n",
    "plt.show()"
   ]
  },
  {
   "cell_type": "code",
   "execution_count": 19,
   "metadata": {},
   "outputs": [
    {
     "data": {
      "text/plain": [
       "9"
      ]
     },
     "execution_count": 19,
     "metadata": {},
     "output_type": "execute_result"
    }
   ],
   "source": [
    "len(crash_year['Number of Collsion'])"
   ]
  },
  {
   "cell_type": "code",
   "execution_count": 20,
   "metadata": {},
   "outputs": [
    {
     "data": {
      "text/plain": [
       "193858.22222222222"
      ]
     },
     "execution_count": 20,
     "metadata": {},
     "output_type": "execute_result"
    }
   ],
   "source": [
    "crash_year['Number of Collsion'].sum()/len(crash_year['Number of Collsion'])"
   ]
  },
  {
   "cell_type": "code",
   "execution_count": 21,
   "metadata": {},
   "outputs": [
    {
     "data": {
      "text/plain": [
       "67043.0"
      ]
     },
     "execution_count": 21,
     "metadata": {},
     "output_type": "execute_result"
    }
   ],
   "source": [
    "crash_year['Injured'].sum()/len(crash_year['Injured'])"
   ]
  },
  {
   "cell_type": "code",
   "execution_count": 22,
   "metadata": {},
   "outputs": [
    {
     "data": {
      "text/plain": [
       "388.3333333333333"
      ]
     },
     "execution_count": 22,
     "metadata": {},
     "output_type": "execute_result"
    }
   ],
   "source": [
    "crash_year['Killed'].sum()/len(crash_year['Killed'])"
   ]
  },
  {
   "cell_type": "code",
   "execution_count": 23,
   "metadata": {},
   "outputs": [
    {
     "data": {
      "image/png": "[encoded data removed]",
      "text/plain": [
       "<Figure size 720x360 with 1 Axes>"
      ]
     },
     "metadata": {
      "needs_background": "dark"
     },
     "output_type": "display_data"
    }
   ],
   "source": [
    "plt.figure(figsize=(10,5))\n",
    "plt.bar(crash_year.year,crash_year.Injured,color='lightblue')\n",
    "plt.title('Number of Injuries from 2012 to 2020',fontsize=20,color='white')\n",
    "plt.ylabel('Injuries',fontsize=15,color='white')\n",
    "plt.xticks(crash_year.year,fontsize=13,color='white')\n",
    "plt.yticks(fontsize=13,color='white')\n",
    "plt.grid(linestyle='--',axis='y')\n",
    "plt.savefig('injuries',dpi=300)\n",
    "plt.show()"
   ]
  },
  {
   "cell_type": "code",
   "execution_count": 24,
   "metadata": {},
   "outputs": [
    {
     "data": {
      "image/png": "[encoded data removed]",
      "text/plain": [
       "<Figure size 720x360 with 1 Axes>"
      ]
     },
     "metadata": {
      "needs_background": "dark"
     },
     "output_type": "display_data"
    }
   ],
   "source": [
    "plt.figure(figsize=(10,5))\n",
    "plt.bar(crash_year.year,crash_year.Killed,color='lightblue')\n",
    "plt.title('Number of Fatalities from 2012 to 2020',fontsize=20,color='white')\n",
    "plt.ylabel('Fatalities',fontsize=15,color='white')\n",
    "plt.xticks(crash_year.year,fontsize=13,color='white')\n",
    "plt.yticks(fontsize=13,color='white')\n",
    "plt.grid(linestyle='--',axis='y')\n",
    "plt.savefig('fatalities',dpi=300)\n",
    "plt.show()"
   ]
  },
  {
   "cell_type": "code",
   "execution_count": 25,
   "metadata": {},
   "outputs": [],
   "source": [
    "missing_value_crash = crash_df.isna().sum().to_frame(name='NaN_number')\n",
    "missing_value_crash.sort_values('NaN_number',inplace=True,ascending=False)"
   ]
  },
  {
   "cell_type": "code",
   "execution_count": 26,
   "metadata": {},
   "outputs": [
    {
     "data": {
      "image/png": "[encoded data removed]",
      "text/plain": [
       "<Figure size 1080x504 with 1 Axes>"
      ]
     },
     "metadata": {
      "needs_background": "light"
     },
     "output_type": "display_data"
    }
   ],
   "source": [
    "missing_value_crash.plot.bar(color='blue',figsize=(15,7))\n",
    "plt.title('Missing Value of Motor Vehicle Collisions dataset',fontsize=15)\n",
    "plt.legend()\n",
    "plt.show()"
   ]
  },
  {
   "cell_type": "code",
   "execution_count": 27,
   "metadata": {},
   "outputs": [
    {
     "name": "stderr",
     "output_type": "stream",
     "text": [
      "/home/valx/anaconda3/lib/python3.8/site-packages/IPython/core/interactiveshell.py:3146: DtypeWarning: Columns (3,4,8,14,20) have mixed types.Specify dtype option on import or set low_memory=False.\n",
      "  has_raised = await self.run_ast_nodes(code_ast.body, cell_name,\n"
     ]
    }
   ],
   "source": [
    "permit_df = pd.read_csv('./data/Street_Construction_Permits.csv', low_memory=True)"
   ]
  },
  {
   "cell_type": "code",
   "execution_count": 28,
   "metadata": {},
   "outputs": [
    {
     "data": {
      "text/html": [
       "<div>\n",
       "<style scoped>\n",
       "    .dataframe tbody tr th:only-of-type {\n",
       "        vertical-align: middle;\n",
       "    }\n",
       "\n",
       "    .dataframe tbody tr th {\n",
       "        vertical-align: top;\n",
       "    }\n",
       "\n",
       "    .dataframe thead th {\n",
       "        text-align: right;\n",
       "    }\n",
       "</style>\n",
       "<table border=\"1\" class=\"dataframe\">\n",
       "  <thead>\n",
       "    <tr style=\"text-align: right;\">\n",
       "      <th></th>\n",
       "      <th>PermitNumber</th>\n",
       "      <th>ApplicationTrackingID</th>\n",
       "      <th>SequenceNumber</th>\n",
       "      <th>ApplicationTypeShortDesc</th>\n",
       "      <th>PermitStatusID</th>\n",
       "      <th>PermitStatusShortDesc</th>\n",
       "      <th>PermitSeriesID</th>\n",
       "      <th>PermitSeriesShortDesc</th>\n",
       "      <th>PermitTypeID</th>\n",
       "      <th>PermitTypeDesc</th>\n",
       "      <th>...</th>\n",
       "      <th>OnStreetName</th>\n",
       "      <th>FromStreetName</th>\n",
       "      <th>ToStreetName</th>\n",
       "      <th>PermitteeName</th>\n",
       "      <th>PermitPurposeComments</th>\n",
       "      <th>PermitLocationComments</th>\n",
       "      <th>PavementShortDesc</th>\n",
       "      <th>SideWalkShortDesc</th>\n",
       "      <th>CreatedOn</th>\n",
       "      <th>ModifiedOn</th>\n",
       "    </tr>\n",
       "  </thead>\n",
       "  <tbody>\n",
       "    <tr>\n",
       "      <th>0</th>\n",
       "      <td>Q012007305130</td>\n",
       "      <td>NaN</td>\n",
       "      <td>NaN</td>\n",
       "      <td>NaN</td>\n",
       "      <td>15</td>\n",
       "      <td>DELINQUENT CUTFORM/COMPACTION</td>\n",
       "      <td>1</td>\n",
       "      <td>STREET OPENING PERMIT</td>\n",
       "      <td>0162</td>\n",
       "      <td>NYC PARKS - RECONSTRUCTION CONTRACT</td>\n",
       "      <td>...</td>\n",
       "      <td>CLOVERDALE BOULEVARD</td>\n",
       "      <td>57 ROAD</td>\n",
       "      <td>59 AVENUE</td>\n",
       "      <td>FERRANDINO &amp; SON, INC.</td>\n",
       "      <td>MOSY1841</td>\n",
       "      <td>NaN</td>\n",
       "      <td>NaN</td>\n",
       "      <td>CONCRETE</td>\n",
       "      <td>12/14/2013 09:03:08 PM +0000</td>\n",
       "      <td>12/14/2013 09:03:08 PM +0000</td>\n",
       "    </tr>\n",
       "    <tr>\n",
       "      <th>1</th>\n",
       "      <td>X042012258017</td>\n",
       "      <td>NaN</td>\n",
       "      <td>NaN</td>\n",
       "      <td>NaN</td>\n",
       "      <td>30</td>\n",
       "      <td>EXPIRED</td>\n",
       "      <td>4</td>\n",
       "      <td>SIDEWALK CONSTRUCTION PERMIT</td>\n",
       "      <td>0401</td>\n",
       "      <td>REPAIR SIDEWALK</td>\n",
       "      <td>...</td>\n",
       "      <td>HOLLAND AVENUE</td>\n",
       "      <td>ALLERTON AVENUE</td>\n",
       "      <td>ARNOW AVENUE</td>\n",
       "      <td>KIANI CONTRACTING INC.</td>\n",
       "      <td>NaN</td>\n",
       "      <td>NaN</td>\n",
       "      <td>NaN</td>\n",
       "      <td>CONCRETE</td>\n",
       "      <td>12/14/2013 09:03:08 PM +0000</td>\n",
       "      <td>06/22/2018 08:16:47 PM +0000</td>\n",
       "    </tr>\n",
       "    <tr>\n",
       "      <th>2</th>\n",
       "      <td>X012010223030</td>\n",
       "      <td>NaN</td>\n",
       "      <td>NaN</td>\n",
       "      <td>NaN</td>\n",
       "      <td>30</td>\n",
       "      <td>EXPIRED</td>\n",
       "      <td>1</td>\n",
       "      <td>STREET OPENING PERMIT</td>\n",
       "      <td>0122</td>\n",
       "      <td>REPAIR GAS</td>\n",
       "      <td>...</td>\n",
       "      <td>MICKLE AVENUE</td>\n",
       "      <td>ADEE AVENUE</td>\n",
       "      <td>ARNOW AVENUE</td>\n",
       "      <td>CONSOLIDATED EDISON</td>\n",
       "      <td>001009673701201008120001000396737</td>\n",
       "      <td>SUBMITTED AS:MICKLE AVENUE ARNOW AVENUE ADEE A...</td>\n",
       "      <td>ASPHALT</td>\n",
       "      <td>CONCRETE</td>\n",
       "      <td>12/14/2013 09:03:08 PM +0000</td>\n",
       "      <td>12/14/2013 09:03:08 PM +0000</td>\n",
       "    </tr>\n",
       "    <tr>\n",
       "      <th>3</th>\n",
       "      <td>X012006219032</td>\n",
       "      <td>NaN</td>\n",
       "      <td>NaN</td>\n",
       "      <td>NaN</td>\n",
       "      <td>30</td>\n",
       "      <td>EXPIRED</td>\n",
       "      <td>1</td>\n",
       "      <td>STREET OPENING PERMIT</td>\n",
       "      <td>0162</td>\n",
       "      <td>NYC PARKS - RECONSTRUCTION CONTRACT</td>\n",
       "      <td>...</td>\n",
       "      <td>BRONX BOULEVARD</td>\n",
       "      <td>MAGENTA STREET</td>\n",
       "      <td>ROSEWOOD STREET</td>\n",
       "      <td>LAKHI GENERAL CONTRACTOR INC</td>\n",
       "      <td>MOS77841</td>\n",
       "      <td>NaN</td>\n",
       "      <td>ASPHALT</td>\n",
       "      <td>CONCRETE</td>\n",
       "      <td>12/14/2013 09:03:08 PM +0000</td>\n",
       "      <td>12/14/2013 09:03:08 PM +0000</td>\n",
       "    </tr>\n",
       "    <tr>\n",
       "      <th>4</th>\n",
       "      <td>X011999076002</td>\n",
       "      <td>NaN</td>\n",
       "      <td>NaN</td>\n",
       "      <td>NaN</td>\n",
       "      <td>15</td>\n",
       "      <td>DELINQUENT CUTFORM/COMPACTION</td>\n",
       "      <td>1</td>\n",
       "      <td>STREET OPENING PERMIT</td>\n",
       "      <td>0113</td>\n",
       "      <td>REPAIR WATER</td>\n",
       "      <td>...</td>\n",
       "      <td>EAST  165 STREET</td>\n",
       "      <td>GERARD AVENUE</td>\n",
       "      <td>WALTON AVENUE</td>\n",
       "      <td>N.Y.C.WATER MAIN WORKS INC</td>\n",
       "      <td>NaN</td>\n",
       "      <td>NaN</td>\n",
       "      <td>ASPHALT</td>\n",
       "      <td>NaN</td>\n",
       "      <td>12/14/2013 09:03:08 PM +0000</td>\n",
       "      <td>12/14/2013 09:03:08 PM +0000</td>\n",
       "    </tr>\n",
       "  </tbody>\n",
       "</table>\n",
       "<p>5 rows × 36 columns</p>\n",
       "</div>"
      ],
      "text/plain": [
       "    PermitNumber  ApplicationTrackingID  SequenceNumber  \\\n",
       "0  Q012007305130                    NaN             NaN   \n",
       "1  X042012258017                    NaN             NaN   \n",
       "2  X012010223030                    NaN             NaN   \n",
       "3  X012006219032                    NaN             NaN   \n",
       "4  X011999076002                    NaN             NaN   \n",
       "\n",
       "  ApplicationTypeShortDesc PermitStatusID          PermitStatusShortDesc  \\\n",
       "0                      NaN             15  DELINQUENT CUTFORM/COMPACTION   \n",
       "1                      NaN             30                        EXPIRED   \n",
       "2                      NaN             30                        EXPIRED   \n",
       "3                      NaN             30                        EXPIRED   \n",
       "4                      NaN             15  DELINQUENT CUTFORM/COMPACTION   \n",
       "\n",
       "   PermitSeriesID         PermitSeriesShortDesc PermitTypeID  \\\n",
       "0               1         STREET OPENING PERMIT         0162   \n",
       "1               4  SIDEWALK CONSTRUCTION PERMIT         0401   \n",
       "2               1         STREET OPENING PERMIT         0122   \n",
       "3               1         STREET OPENING PERMIT         0162   \n",
       "4               1         STREET OPENING PERMIT         0113   \n",
       "\n",
       "                        PermitTypeDesc  ...          OnStreetName  \\\n",
       "0  NYC PARKS - RECONSTRUCTION CONTRACT  ...  CLOVERDALE BOULEVARD   \n",
       "1                      REPAIR SIDEWALK  ...        HOLLAND AVENUE   \n",
       "2                           REPAIR GAS  ...         MICKLE AVENUE   \n",
       "3  NYC PARKS - RECONSTRUCTION CONTRACT  ...       BRONX BOULEVARD   \n",
       "4                         REPAIR WATER  ...      EAST  165 STREET   \n",
       "\n",
       "    FromStreetName     ToStreetName                 PermitteeName  \\\n",
       "0          57 ROAD        59 AVENUE        FERRANDINO & SON, INC.   \n",
       "1  ALLERTON AVENUE     ARNOW AVENUE        KIANI CONTRACTING INC.   \n",
       "2      ADEE AVENUE     ARNOW AVENUE           CONSOLIDATED EDISON   \n",
       "3   MAGENTA STREET  ROSEWOOD STREET  LAKHI GENERAL CONTRACTOR INC   \n",
       "4    GERARD AVENUE    WALTON AVENUE    N.Y.C.WATER MAIN WORKS INC   \n",
       "\n",
       "               PermitPurposeComments  \\\n",
       "0                           MOSY1841   \n",
       "1                                NaN   \n",
       "2  001009673701201008120001000396737   \n",
       "3                           MOS77841   \n",
       "4                                NaN   \n",
       "\n",
       "                              PermitLocationComments  PavementShortDesc  \\\n",
       "0                                                NaN                NaN   \n",
       "1                                                NaN                NaN   \n",
       "2  SUBMITTED AS:MICKLE AVENUE ARNOW AVENUE ADEE A...            ASPHALT   \n",
       "3                                                NaN            ASPHALT   \n",
       "4                                                NaN            ASPHALT   \n",
       "\n",
       "  SideWalkShortDesc                     CreatedOn  \\\n",
       "0          CONCRETE  12/14/2013 09:03:08 PM +0000   \n",
       "1          CONCRETE  12/14/2013 09:03:08 PM +0000   \n",
       "2          CONCRETE  12/14/2013 09:03:08 PM +0000   \n",
       "3          CONCRETE  12/14/2013 09:03:08 PM +0000   \n",
       "4               NaN  12/14/2013 09:03:08 PM +0000   \n",
       "\n",
       "                     ModifiedOn  \n",
       "0  12/14/2013 09:03:08 PM +0000  \n",
       "1  06/22/2018 08:16:47 PM +0000  \n",
       "2  12/14/2013 09:03:08 PM +0000  \n",
       "3  12/14/2013 09:03:08 PM +0000  \n",
       "4  12/14/2013 09:03:08 PM +0000  \n",
       "\n",
       "[5 rows x 36 columns]"
      ]
     },
     "execution_count": 28,
     "metadata": {},
     "output_type": "execute_result"
    }
   ],
   "source": [
    "permit_df.head()"
   ]
  },
  {
   "cell_type": "code",
   "execution_count": 29,
   "metadata": {},
   "outputs": [
    {
     "data": {
      "text/plain": [
       "['PermitNumber',\n",
       " 'ApplicationTrackingID',\n",
       " 'SequenceNumber',\n",
       " 'ApplicationTypeShortDesc',\n",
       " 'PermitStatusID',\n",
       " 'PermitStatusShortDesc',\n",
       " 'PermitSeriesID',\n",
       " 'PermitSeriesShortDesc',\n",
       " 'PermitTypeID',\n",
       " 'PermitTypeDesc',\n",
       " 'PermitNumberOfZones',\n",
       " 'PermitLinearFeet',\n",
       " 'PermitTotalSqFeet',\n",
       " 'PermitEstimatedNumberOfCuts',\n",
       " 'EquipmentTypeDesc',\n",
       " 'NumberOfContainers',\n",
       " 'NumberOfMiniContainers',\n",
       " 'SpecificStipulations',\n",
       " 'PreviousPermitNumber',\n",
       " 'NextPermitNumber',\n",
       " 'EmergencyIssueDate',\n",
       " 'PermitIssueDate',\n",
       " 'IssuedWorkStartDate',\n",
       " 'IssuedWorkEndDate',\n",
       " 'BoroughName',\n",
       " 'PermitHouseNumber',\n",
       " 'OnStreetName',\n",
       " 'FromStreetName',\n",
       " 'ToStreetName',\n",
       " 'PermitteeName',\n",
       " 'PermitPurposeComments',\n",
       " 'PermitLocationComments',\n",
       " 'PavementShortDesc',\n",
       " 'SideWalkShortDesc',\n",
       " 'CreatedOn',\n",
       " 'ModifiedOn']"
      ]
     },
     "execution_count": 29,
     "metadata": {},
     "output_type": "execute_result"
    }
   ],
   "source": [
    "permit_df.columns.to_list()"
   ]
  },
  {
   "cell_type": "code",
   "execution_count": 30,
   "metadata": {},
   "outputs": [
    {
     "data": {
      "text/plain": [
       "0                                    NaN\n",
       "1                                    NaN\n",
       "2           08/11/2010 12:00:00 AM +0000\n",
       "3                                    NaN\n",
       "4           03/17/1999 12:00:00 AM +0000\n",
       "                        ...             \n",
       "10407635                             NaN\n",
       "10407636                             NaN\n",
       "10407637                             NaN\n",
       "10407638                             NaN\n",
       "10407639                             NaN\n",
       "Name: EmergencyIssueDate, Length: 10407640, dtype: object"
      ]
     },
     "execution_count": 30,
     "metadata": {},
     "output_type": "execute_result"
    }
   ],
   "source": [
    "permit_df['EmergencyIssueDate']"
   ]
  },
  {
   "cell_type": "code",
   "execution_count": 31,
   "metadata": {},
   "outputs": [
    {
     "data": {
      "text/plain": [
       "0           12/14/2013\n",
       "1           12/14/2013\n",
       "2           12/14/2013\n",
       "3           12/14/2013\n",
       "4           12/14/2013\n",
       "               ...    \n",
       "10407635    03/19/2021\n",
       "10407636    03/19/2021\n",
       "10407637    12/20/2020\n",
       "10407638    03/17/2021\n",
       "10407639    03/17/2021\n",
       "Name: CreatedOn, Length: 10407640, dtype: object"
      ]
     },
     "execution_count": 31,
     "metadata": {},
     "output_type": "execute_result"
    }
   ],
   "source": [
    "permit_df['CreatedOn'].str[0:10]"
   ]
  },
  {
   "cell_type": "code",
   "execution_count": 32,
   "metadata": {},
   "outputs": [],
   "source": [
    "permit_df['CreatedOn'] = pd.to_datetime(permit_df['CreatedOn'].str[:10])"
   ]
  },
  {
   "cell_type": "code",
   "execution_count": 33,
   "metadata": {},
   "outputs": [
    {
     "data": {
      "text/plain": [
       "0          2013-12-14\n",
       "6163717    2013-12-14\n",
       "6163716    2013-12-14\n",
       "6163715    2013-12-14\n",
       "6163714    2013-12-14\n",
       "              ...    \n",
       "10406741   2021-03-20\n",
       "10406742   2021-03-20\n",
       "10406717   2021-03-20\n",
       "10388529   2021-03-20\n",
       "10396434   2021-03-21\n",
       "Name: CreatedOn, Length: 10407640, dtype: datetime64[ns]"
      ]
     },
     "execution_count": 33,
     "metadata": {},
     "output_type": "execute_result"
    }
   ],
   "source": [
    "permit_df['CreatedOn'].sort_values(ascending=True)"
   ]
  },
  {
   "cell_type": "code",
   "execution_count": 34,
   "metadata": {},
   "outputs": [],
   "source": [
    "permit_df['dow'] = pd.to_datetime(permit_df['CreatedOn']).dt.dayofweek\n",
    "permit_df['day'] = pd.to_datetime(permit_df['CreatedOn']).dt.day\n",
    "permit_df['year'] = pd.to_datetime(permit_df['CreatedOn']).dt.year"
   ]
  },
  {
   "cell_type": "code",
   "execution_count": null,
   "metadata": {},
   "outputs": [],
   "source": [
    "permit_year = permit_df[['year','PermitNumber']].groupby('year').count().reset_index()\n",
    "permit_year.head()"
   ]
  },
  {
   "cell_type": "code",
   "execution_count": null,
   "metadata": {},
   "outputs": [],
   "source": [
    "plt.figure(figsize=(10,5))\n",
    "plt.bar(crash_year.year,crash_year.Injured,color='lightblue')\n",
    "plt.title('Number of Injuries from 2012 to 2020',fontsize=20,color='white')\n",
    "plt.ylabel('Injuries',fontsize=15,color='white')\n",
    "plt.xticks(crash_year.year,fontsize=13,color='white')\n",
    "plt.yticks(fontsize=13,color='white')\n",
    "plt.grid(linestyle='--',axis='y')\n",
    "plt.savefig('injuries',dpi=300)\n",
    "plt.show()"
   ]
  },
  {
   "cell_type": "code",
   "execution_count": null,
   "metadata": {},
   "outputs": [],
   "source": [
    "missing_value_permit = permit_df.isna().sum().to_frame(name='NaN_number')\n",
    "missing_value_permit.sort_values('NaN_number',inplace=True,ascending=False)"
   ]
  },
  {
   "cell_type": "code",
   "execution_count": null,
   "metadata": {},
   "outputs": [],
   "source": [
    "missing_value_permit.plot.bar(color='blue',figsize=(15,7))\n",
    "plt.title('Missing Value of Street Construction Permit dataset',fontsize=15)\n",
    "plt.legend()\n",
    "plt.show()"
   ]
  },
  {
   "cell_type": "code",
   "execution_count": 1,
   "metadata": {},
   "outputs": [],
   "source": [
    "import pandas as pd\n",
    "import numpy as np\n",
    "#import geopandas as gpd\n",
    "import dask.dataframe as dd\n",
    "from dask.diagnostics import ProgressBar\n",
    "from datetime import datetime\n",
    "from matplotlib import pyplot as plt\n",
    "import warnings\n",
    "%matplotlib inline\n",
    "warnings.filterwarnings('ignore')"
   ]
  },
  {
   "cell_type": "code",
   "execution_count": 2,
   "metadata": {},
   "outputs": [],
   "source": [
    "permit_dd = dd.read_csv('./data/Street_Construction_Permits.csv',dtype=str)"
   ]
  },
  {
   "cell_type": "code",
   "execution_count": 3,
   "metadata": {},
   "outputs": [
    {
     "data": {
      "text/html": [
       "<div>\n",
       "<style scoped>\n",
       "    .dataframe tbody tr th:only-of-type {\n",
       "        vertical-align: middle;\n",
       "    }\n",
       "\n",
       "    .dataframe tbody tr th {\n",
       "        vertical-align: top;\n",
       "    }\n",
       "\n",
       "    .dataframe thead th {\n",
       "        text-align: right;\n",
       "    }\n",
       "</style>\n",
       "<table border=\"1\" class=\"dataframe\">\n",
       "  <thead>\n",
       "    <tr style=\"text-align: right;\">\n",
       "      <th></th>\n",
       "      <th>PermitNumber</th>\n",
       "      <th>ApplicationTrackingID</th>\n",
       "      <th>SequenceNumber</th>\n",
       "      <th>ApplicationTypeShortDesc</th>\n",
       "      <th>PermitStatusID</th>\n",
       "      <th>PermitStatusShortDesc</th>\n",
       "      <th>PermitSeriesID</th>\n",
       "      <th>PermitSeriesShortDesc</th>\n",
       "      <th>PermitTypeID</th>\n",
       "      <th>PermitTypeDesc</th>\n",
       "      <th>...</th>\n",
       "      <th>OnStreetName</th>\n",
       "      <th>FromStreetName</th>\n",
       "      <th>ToStreetName</th>\n",
       "      <th>PermitteeName</th>\n",
       "      <th>PermitPurposeComments</th>\n",
       "      <th>PermitLocationComments</th>\n",
       "      <th>PavementShortDesc</th>\n",
       "      <th>SideWalkShortDesc</th>\n",
       "      <th>CreatedOn</th>\n",
       "      <th>ModifiedOn</th>\n",
       "    </tr>\n",
       "  </thead>\n",
       "  <tbody>\n",
       "    <tr>\n",
       "      <th>0</th>\n",
       "      <td>Q012007305130</td>\n",
       "      <td>NaN</td>\n",
       "      <td>NaN</td>\n",
       "      <td>NaN</td>\n",
       "      <td>015</td>\n",
       "      <td>DELINQUENT CUTFORM/COMPACTION</td>\n",
       "      <td>01</td>\n",
       "      <td>STREET OPENING PERMIT</td>\n",
       "      <td>0162</td>\n",
       "      <td>NYC PARKS - RECONSTRUCTION CONTRACT</td>\n",
       "      <td>...</td>\n",
       "      <td>CLOVERDALE BOULEVARD</td>\n",
       "      <td>57 ROAD</td>\n",
       "      <td>59 AVENUE</td>\n",
       "      <td>FERRANDINO &amp; SON, INC.</td>\n",
       "      <td>MOSY1841</td>\n",
       "      <td>NaN</td>\n",
       "      <td>NaN</td>\n",
       "      <td>CONCRETE</td>\n",
       "      <td>12/14/2013 09:03:08 PM +0000</td>\n",
       "      <td>12/14/2013 09:03:08 PM +0000</td>\n",
       "    </tr>\n",
       "    <tr>\n",
       "      <th>1</th>\n",
       "      <td>X042012258017</td>\n",
       "      <td>NaN</td>\n",
       "      <td>NaN</td>\n",
       "      <td>NaN</td>\n",
       "      <td>030</td>\n",
       "      <td>EXPIRED</td>\n",
       "      <td>04</td>\n",
       "      <td>SIDEWALK CONSTRUCTION PERMIT</td>\n",
       "      <td>0401</td>\n",
       "      <td>REPAIR SIDEWALK</td>\n",
       "      <td>...</td>\n",
       "      <td>HOLLAND AVENUE</td>\n",
       "      <td>ALLERTON AVENUE</td>\n",
       "      <td>ARNOW AVENUE</td>\n",
       "      <td>KIANI CONTRACTING INC.</td>\n",
       "      <td>NaN</td>\n",
       "      <td>NaN</td>\n",
       "      <td>NaN</td>\n",
       "      <td>CONCRETE</td>\n",
       "      <td>12/14/2013 09:03:08 PM +0000</td>\n",
       "      <td>06/22/2018 08:16:47 PM +0000</td>\n",
       "    </tr>\n",
       "    <tr>\n",
       "      <th>2</th>\n",
       "      <td>X012010223030</td>\n",
       "      <td>NaN</td>\n",
       "      <td>NaN</td>\n",
       "      <td>NaN</td>\n",
       "      <td>030</td>\n",
       "      <td>EXPIRED</td>\n",
       "      <td>01</td>\n",
       "      <td>STREET OPENING PERMIT</td>\n",
       "      <td>0122</td>\n",
       "      <td>REPAIR GAS</td>\n",
       "      <td>...</td>\n",
       "      <td>MICKLE AVENUE</td>\n",
       "      <td>ADEE AVENUE</td>\n",
       "      <td>ARNOW AVENUE</td>\n",
       "      <td>CONSOLIDATED EDISON</td>\n",
       "      <td>001009673701201008120001000396737</td>\n",
       "      <td>SUBMITTED AS:MICKLE AVENUE ARNOW AVENUE ADEE A...</td>\n",
       "      <td>ASPHALT</td>\n",
       "      <td>CONCRETE</td>\n",
       "      <td>12/14/2013 09:03:08 PM +0000</td>\n",
       "      <td>12/14/2013 09:03:08 PM +0000</td>\n",
       "    </tr>\n",
       "    <tr>\n",
       "      <th>3</th>\n",
       "      <td>X012006219032</td>\n",
       "      <td>NaN</td>\n",
       "      <td>NaN</td>\n",
       "      <td>NaN</td>\n",
       "      <td>030</td>\n",
       "      <td>EXPIRED</td>\n",
       "      <td>01</td>\n",
       "      <td>STREET OPENING PERMIT</td>\n",
       "      <td>0162</td>\n",
       "      <td>NYC PARKS - RECONSTRUCTION CONTRACT</td>\n",
       "      <td>...</td>\n",
       "      <td>BRONX BOULEVARD</td>\n",
       "      <td>MAGENTA STREET</td>\n",
       "      <td>ROSEWOOD STREET</td>\n",
       "      <td>LAKHI GENERAL CONTRACTOR INC</td>\n",
       "      <td>MOS77841</td>\n",
       "      <td>NaN</td>\n",
       "      <td>ASPHALT</td>\n",
       "      <td>CONCRETE</td>\n",
       "      <td>12/14/2013 09:03:08 PM +0000</td>\n",
       "      <td>12/14/2013 09:03:08 PM +0000</td>\n",
       "    </tr>\n",
       "    <tr>\n",
       "      <th>4</th>\n",
       "      <td>X011999076002</td>\n",
       "      <td>NaN</td>\n",
       "      <td>NaN</td>\n",
       "      <td>NaN</td>\n",
       "      <td>015</td>\n",
       "      <td>DELINQUENT CUTFORM/COMPACTION</td>\n",
       "      <td>01</td>\n",
       "      <td>STREET OPENING PERMIT</td>\n",
       "      <td>0113</td>\n",
       "      <td>REPAIR WATER</td>\n",
       "      <td>...</td>\n",
       "      <td>EAST  165 STREET</td>\n",
       "      <td>GERARD AVENUE</td>\n",
       "      <td>WALTON AVENUE</td>\n",
       "      <td>N.Y.C.WATER MAIN WORKS INC</td>\n",
       "      <td>NaN</td>\n",
       "      <td>NaN</td>\n",
       "      <td>ASPHALT</td>\n",
       "      <td>NaN</td>\n",
       "      <td>12/14/2013 09:03:08 PM +0000</td>\n",
       "      <td>12/14/2013 09:03:08 PM +0000</td>\n",
       "    </tr>\n",
       "  </tbody>\n",
       "</table>\n",
       "<p>5 rows × 36 columns</p>\n",
       "</div>"
      ],
      "text/plain": [
       "    PermitNumber ApplicationTrackingID SequenceNumber  \\\n",
       "0  Q012007305130                   NaN            NaN   \n",
       "1  X042012258017                   NaN            NaN   \n",
       "2  X012010223030                   NaN            NaN   \n",
       "3  X012006219032                   NaN            NaN   \n",
       "4  X011999076002                   NaN            NaN   \n",
       "\n",
       "  ApplicationTypeShortDesc PermitStatusID          PermitStatusShortDesc  \\\n",
       "0                      NaN            015  DELINQUENT CUTFORM/COMPACTION   \n",
       "1                      NaN            030                        EXPIRED   \n",
       "2                      NaN            030                        EXPIRED   \n",
       "3                      NaN            030                        EXPIRED   \n",
       "4                      NaN            015  DELINQUENT CUTFORM/COMPACTION   \n",
       "\n",
       "  PermitSeriesID         PermitSeriesShortDesc PermitTypeID  \\\n",
       "0             01         STREET OPENING PERMIT         0162   \n",
       "1             04  SIDEWALK CONSTRUCTION PERMIT         0401   \n",
       "2             01         STREET OPENING PERMIT         0122   \n",
       "3             01         STREET OPENING PERMIT         0162   \n",
       "4             01         STREET OPENING PERMIT         0113   \n",
       "\n",
       "                        PermitTypeDesc  ...          OnStreetName  \\\n",
       "0  NYC PARKS - RECONSTRUCTION CONTRACT  ...  CLOVERDALE BOULEVARD   \n",
       "1                      REPAIR SIDEWALK  ...        HOLLAND AVENUE   \n",
       "2                           REPAIR GAS  ...         MICKLE AVENUE   \n",
       "3  NYC PARKS - RECONSTRUCTION CONTRACT  ...       BRONX BOULEVARD   \n",
       "4                         REPAIR WATER  ...      EAST  165 STREET   \n",
       "\n",
       "    FromStreetName     ToStreetName                 PermitteeName  \\\n",
       "0          57 ROAD        59 AVENUE        FERRANDINO & SON, INC.   \n",
       "1  ALLERTON AVENUE     ARNOW AVENUE        KIANI CONTRACTING INC.   \n",
       "2      ADEE AVENUE     ARNOW AVENUE           CONSOLIDATED EDISON   \n",
       "3   MAGENTA STREET  ROSEWOOD STREET  LAKHI GENERAL CONTRACTOR INC   \n",
       "4    GERARD AVENUE    WALTON AVENUE    N.Y.C.WATER MAIN WORKS INC   \n",
       "\n",
       "               PermitPurposeComments  \\\n",
       "0                           MOSY1841   \n",
       "1                                NaN   \n",
       "2  001009673701201008120001000396737   \n",
       "3                           MOS77841   \n",
       "4                                NaN   \n",
       "\n",
       "                              PermitLocationComments PavementShortDesc  \\\n",
       "0                                                NaN               NaN   \n",
       "1                                                NaN               NaN   \n",
       "2  SUBMITTED AS:MICKLE AVENUE ARNOW AVENUE ADEE A...           ASPHALT   \n",
       "3                                                NaN           ASPHALT   \n",
       "4                                                NaN           ASPHALT   \n",
       "\n",
       "  SideWalkShortDesc                     CreatedOn  \\\n",
       "0          CONCRETE  12/14/2013 09:03:08 PM +0000   \n",
       "1          CONCRETE  12/14/2013 09:03:08 PM +0000   \n",
       "2          CONCRETE  12/14/2013 09:03:08 PM +0000   \n",
       "3          CONCRETE  12/14/2013 09:03:08 PM +0000   \n",
       "4               NaN  12/14/2013 09:03:08 PM +0000   \n",
       "\n",
       "                     ModifiedOn  \n",
       "0  12/14/2013 09:03:08 PM +0000  \n",
       "1  06/22/2018 08:16:47 PM +0000  \n",
       "2  12/14/2013 09:03:08 PM +0000  \n",
       "3  12/14/2013 09:03:08 PM +0000  \n",
       "4  12/14/2013 09:03:08 PM +0000  \n",
       "\n",
       "[5 rows x 36 columns]"
      ]
     },
     "execution_count": 3,
     "metadata": {},
     "output_type": "execute_result"
    }
   ],
   "source": [
    "permit_dd.head()"
   ]
  },
  {
   "cell_type": "code",
   "execution_count": 4,
   "metadata": {},
   "outputs": [],
   "source": [
    "permit_dd['CreatedOn'] = dd.to_datetime(permit_dd['CreatedOn'].str[:10])"
   ]
  },
  {
   "cell_type": "code",
   "execution_count": 5,
   "metadata": {},
   "outputs": [
    {
     "data": {
      "text/plain": [
       "0   2013-12-14\n",
       "1   2013-12-14\n",
       "2   2013-12-14\n",
       "3   2013-12-14\n",
       "4   2013-12-14\n",
       "Name: CreatedOn, dtype: datetime64[ns]"
      ]
     },
     "execution_count": 5,
     "metadata": {},
     "output_type": "execute_result"
    }
   ],
   "source": [
    "permit_dd['CreatedOn'].head()"
   ]
  },
  {
   "cell_type": "code",
   "execution_count": 6,
   "metadata": {},
   "outputs": [],
   "source": [
    "permit_dd['dow'] = dd.to_datetime(permit_dd['CreatedOn']).dt.dayofweek\n",
    "permit_dd['day'] = dd.to_datetime(permit_dd['CreatedOn']).dt.day\n",
    "permit_dd['year'] = dd.to_datetime(permit_dd['CreatedOn']).dt.year"
   ]
  },
  {
   "cell_type": "code",
   "execution_count": 7,
   "metadata": {},
   "outputs": [
    {
     "data": {
      "text/html": [
       "<div>\n",
       "<style scoped>\n",
       "    .dataframe tbody tr th:only-of-type {\n",
       "        vertical-align: middle;\n",
       "    }\n",
       "\n",
       "    .dataframe tbody tr th {\n",
       "        vertical-align: top;\n",
       "    }\n",
       "\n",
       "    .dataframe thead th {\n",
       "        text-align: right;\n",
       "    }\n",
       "</style>\n",
       "<table border=\"1\" class=\"dataframe\">\n",
       "  <thead>\n",
       "    <tr style=\"text-align: right;\">\n",
       "      <th></th>\n",
       "      <th>year</th>\n",
       "      <th>PermitNumber</th>\n",
       "    </tr>\n",
       "  </thead>\n",
       "  <tbody>\n",
       "    <tr>\n",
       "      <th>0</th>\n",
       "      <td>2013</td>\n",
       "      <td>5905698</td>\n",
       "    </tr>\n",
       "    <tr>\n",
       "      <th>1</th>\n",
       "      <td>2020</td>\n",
       "      <td>598685</td>\n",
       "    </tr>\n",
       "    <tr>\n",
       "      <th>2</th>\n",
       "      <td>2014</td>\n",
       "      <td>493820</td>\n",
       "    </tr>\n",
       "    <tr>\n",
       "      <th>3</th>\n",
       "      <td>2015</td>\n",
       "      <td>550937</td>\n",
       "    </tr>\n",
       "    <tr>\n",
       "      <th>4</th>\n",
       "      <td>2016</td>\n",
       "      <td>615565</td>\n",
       "    </tr>\n",
       "  </tbody>\n",
       "</table>\n",
       "</div>"
      ],
      "text/plain": [
       "   year  PermitNumber\n",
       "0  2013       5905698\n",
       "1  2020        598685\n",
       "2  2014        493820\n",
       "3  2015        550937\n",
       "4  2016        615565"
      ]
     },
     "execution_count": 7,
     "metadata": {},
     "output_type": "execute_result"
    }
   ],
   "source": [
    "permit_year = permit_dd[['year','PermitNumber']].groupby('year').count().reset_index().compute()\n",
    "permit_year.head()"
   ]
  },
  {
   "cell_type": "code",
   "execution_count": 8,
   "metadata": {},
   "outputs": [
    {
     "data": {
      "text/plain": [
       "array([2013, 2020, 2014, 2015, 2016, 2017, 2018, 2019, 2021])"
      ]
     },
     "execution_count": 8,
     "metadata": {},
     "output_type": "execute_result"
    }
   ],
   "source": [
    "permit_year.year.unique()"
   ]
  },
  {
   "cell_type": "code",
   "execution_count": 11,
   "metadata": {},
   "outputs": [],
   "source": [
    "permit_year['year']= permit_year[permit_year['year'] != '2021']"
   ]
  },
  {
   "cell_type": "code",
   "execution_count": 12,
   "metadata": {},
   "outputs": [
    {
     "data": {
      "text/plain": [
       "array([2013., 2020., 2014., 2015., 2016., 2017., 2018., 2019.,   nan])"
      ]
     },
     "execution_count": 12,
     "metadata": {},
     "output_type": "execute_result"
    }
   ],
   "source": [
    "permit_year.year.unique()"
   ]
  },
  {
   "cell_type": "code",
   "execution_count": 17,
   "metadata": {},
   "outputs": [],
   "source": [
    "permit_year = permit_year[0:-1]"
   ]
  },
  {
   "cell_type": "code",
   "execution_count": 22,
   "metadata": {},
   "outputs": [],
   "source": [
    "permit_year.year=permit_year['year'].astype(str)"
   ]
  },
  {
   "cell_type": "code",
   "execution_count": 26,
   "metadata": {},
   "outputs": [],
   "source": [
    "permit_year.year = permit_year.year.str[:4]"
   ]
  },
  {
   "cell_type": "code",
   "execution_count": 30,
   "metadata": {},
   "outputs": [],
   "source": [
    "permit_year = permit_year[1:].sort_values('year')"
   ]
  },
  {
   "cell_type": "code",
   "execution_count": 31,
   "metadata": {},
   "outputs": [
    {
     "data": {
      "text/html": [
       "<div>\n",
       "<style scoped>\n",
       "    .dataframe tbody tr th:only-of-type {\n",
       "        vertical-align: middle;\n",
       "    }\n",
       "\n",
       "    .dataframe tbody tr th {\n",
       "        vertical-align: top;\n",
       "    }\n",
       "\n",
       "    .dataframe thead th {\n",
       "        text-align: right;\n",
       "    }\n",
       "</style>\n",
       "<table border=\"1\" class=\"dataframe\">\n",
       "  <thead>\n",
       "    <tr style=\"text-align: right;\">\n",
       "      <th></th>\n",
       "      <th>year</th>\n",
       "      <th>PermitNumber</th>\n",
       "    </tr>\n",
       "  </thead>\n",
       "  <tbody>\n",
       "    <tr>\n",
       "      <th>2</th>\n",
       "      <td>2014</td>\n",
       "      <td>493820</td>\n",
       "    </tr>\n",
       "    <tr>\n",
       "      <th>3</th>\n",
       "      <td>2015</td>\n",
       "      <td>550937</td>\n",
       "    </tr>\n",
       "    <tr>\n",
       "      <th>4</th>\n",
       "      <td>2016</td>\n",
       "      <td>615565</td>\n",
       "    </tr>\n",
       "    <tr>\n",
       "      <th>5</th>\n",
       "      <td>2017</td>\n",
       "      <td>666260</td>\n",
       "    </tr>\n",
       "    <tr>\n",
       "      <th>6</th>\n",
       "      <td>2018</td>\n",
       "      <td>728659</td>\n",
       "    </tr>\n",
       "    <tr>\n",
       "      <th>7</th>\n",
       "      <td>2019</td>\n",
       "      <td>744664</td>\n",
       "    </tr>\n",
       "    <tr>\n",
       "      <th>1</th>\n",
       "      <td>2020</td>\n",
       "      <td>598685</td>\n",
       "    </tr>\n",
       "  </tbody>\n",
       "</table>\n",
       "</div>"
      ],
      "text/plain": [
       "   year  PermitNumber\n",
       "2  2014        493820\n",
       "3  2015        550937\n",
       "4  2016        615565\n",
       "5  2017        666260\n",
       "6  2018        728659\n",
       "7  2019        744664\n",
       "1  2020        598685"
      ]
     },
     "execution_count": 31,
     "metadata": {},
     "output_type": "execute_result"
    }
   ],
   "source": [
    "permit_year"
   ]
  },
  {
   "cell_type": "code",
   "execution_count": 35,
   "metadata": {},
   "outputs": [
    {
     "data": {
      "text/plain": [
       "2    493820\n",
       "3    550937\n",
       "4    615565\n",
       "5    666260\n",
       "6    728659\n",
       "7    744664\n",
       "1    598685\n",
       "Name: PermitNumber, dtype: int64"
      ]
     },
     "execution_count": 35,
     "metadata": {},
     "output_type": "execute_result"
    }
   ],
   "source": [
    "permit_year['PermitNumber']"
   ]
  },
  {
   "cell_type": "code",
   "execution_count": 37,
   "metadata": {},
   "outputs": [
    {
     "data": {
      "image/png": "[encoded data removed]",
      "text/plain": [
       "<Figure size 720x360 with 1 Axes>"
      ]
     },
     "metadata": {
      "needs_background": "dark"
     },
     "output_type": "display_data"
    }
   ],
   "source": [
    "plt.figure(figsize=(10,5))\n",
    "plt.bar(permit_year.year,permit_year['PermitNumber'],color='lightblue')\n",
    "plt.title('Number of Construction Permits from 2014 to 2020',fontsize=20,color='white')\n",
    "plt.ylabel('Number of Permits',fontsize=15,color='white')\n",
    "plt.xticks(permit_year.year,fontsize=13,color='white')\n",
    "plt.yticks(fontsize=13,color='white')\n",
    "plt.grid(linestyle='--',axis='y')\n",
    "plt.savefig('permits',dpi=300)\n",
    "plt.show()"
   ]
  },
  {
   "cell_type": "code",
   "execution_count": 39,
   "metadata": {},
   "outputs": [
    {
     "data": {
      "text/plain": [
       "628370.0"
      ]
     },
     "execution_count": 39,
     "metadata": {},
     "output_type": "execute_result"
    }
   ],
   "source": [
    "permit_year['PermitNumber'].sum()/len(permit_year['PermitNumber'])"
   ]
  },
  {
   "cell_type": "code",
   "execution_count": null,
   "metadata": {},
   "outputs": [],
   "source": []
  }
 ],
 "metadata": {
  "kernelspec": {
   "display_name": "Python 3",
   "language": "python",
   "name": "python3"
  },
  "language_info": {
   "codemirror_mode": {
    "name": "ipython",
    "version": 3
   },
   "file_extension": ".py",
   "mimetype": "text/x-python",
   "name": "python",
   "nbconvert_exporter": "python",
   "pygments_lexer": "ipython3",
   "version": "3.8.5"
  }
 },
 "nbformat": 4,
 "nbformat_minor": 4
}
