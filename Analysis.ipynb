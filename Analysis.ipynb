{
 "cells": [
  {
   "cell_type": "code",
   "execution_count": 2,
   "metadata": {},
   "outputs": [],
   "source": [
    "import pandas as pd\n",
    "import numpy as np\n",
    "import matplotlib.pyplot as plt\n",
    "from datetime import date, datetime, timedelta\n",
    "import geopandas as gpd\n",
    "from sklearn.cluster import KMeans\n",
    "from sklearn.metrics import silhouette_score\n",
    "from sklearn.mixture import GaussianMixture\n",
    "import seaborn as sns\n",
    "from scipy.stats import ttest_ind\n",
    "import warnings\n",
    "from sklearn.preprocessing import MinMaxScaler\n",
    "warnings.filterwarnings(\"ignore\")"
   ]
  },
  {
   "cell_type": "markdown",
   "metadata": {},
   "source": [
    "## cp_agg"
   ]
  },
  {
   "cell_type": "code",
   "execution_count": 37,
   "metadata": {},
   "outputs": [],
   "source": [
    "df = pd.read_csv('cp_agg.csv')"
   ]
  },
  {
   "cell_type": "code",
   "execution_count": 38,
   "metadata": {},
   "outputs": [
    {
     "data": {
      "text/html": [
       "<div>\n",
       "<style scoped>\n",
       "    .dataframe tbody tr th:only-of-type {\n",
       "        vertical-align: middle;\n",
       "    }\n",
       "\n",
       "    .dataframe tbody tr th {\n",
       "        vertical-align: top;\n",
       "    }\n",
       "\n",
       "    .dataframe thead th {\n",
       "        text-align: right;\n",
       "    }\n",
       "</style>\n",
       "<table border=\"1\" class=\"dataframe\">\n",
       "  <thead>\n",
       "    <tr style=\"text-align: right;\">\n",
       "      <th></th>\n",
       "      <th>CRASH DATE</th>\n",
       "      <th>CRASH TIME</th>\n",
       "      <th>BOROUGH</th>\n",
       "      <th>LATITUDE</th>\n",
       "      <th>LONGITUDE</th>\n",
       "      <th>ON STREET NAME</th>\n",
       "      <th>dow</th>\n",
       "      <th>year</th>\n",
       "      <th>month</th>\n",
       "      <th>day</th>\n",
       "      <th>construction</th>\n",
       "      <th>NUMBER OF PERSONS INJURED</th>\n",
       "      <th>NUMBER OF PERSONS KILLED</th>\n",
       "      <th>NUMBER OF PEDESTRIANS INJURED</th>\n",
       "      <th>NUMBER OF PEDESTRIANS KILLED</th>\n",
       "      <th>NUMBER OF CYCLIST INJURED</th>\n",
       "      <th>NUMBER OF CYCLIST KILLED</th>\n",
       "      <th>NUMBER OF MOTORIST INJURED</th>\n",
       "      <th>NUMBER OF MOTORIST KILLED</th>\n",
       "      <th>Number of Accident</th>\n",
       "    </tr>\n",
       "  </thead>\n",
       "  <tbody>\n",
       "    <tr>\n",
       "      <th>0</th>\n",
       "      <td>2016-01-01</td>\n",
       "      <td>0:01</td>\n",
       "      <td>MANHATTAN</td>\n",
       "      <td>40.760223</td>\n",
       "      <td>-73.967462</td>\n",
       "      <td>EAST57STREET</td>\n",
       "      <td>4</td>\n",
       "      <td>2016</td>\n",
       "      <td>1</td>\n",
       "      <td>1</td>\n",
       "      <td>0</td>\n",
       "      <td>0.0</td>\n",
       "      <td>0.0</td>\n",
       "      <td>0</td>\n",
       "      <td>0</td>\n",
       "      <td>0</td>\n",
       "      <td>0</td>\n",
       "      <td>0</td>\n",
       "      <td>0</td>\n",
       "      <td>1</td>\n",
       "    </tr>\n",
       "    <tr>\n",
       "      <th>1</th>\n",
       "      <td>2016-01-01</td>\n",
       "      <td>0:01</td>\n",
       "      <td>MANHATTAN</td>\n",
       "      <td>40.805057</td>\n",
       "      <td>-73.939034</td>\n",
       "      <td>EAST125STREET</td>\n",
       "      <td>4</td>\n",
       "      <td>2016</td>\n",
       "      <td>1</td>\n",
       "      <td>1</td>\n",
       "      <td>0</td>\n",
       "      <td>1.0</td>\n",
       "      <td>0.0</td>\n",
       "      <td>1</td>\n",
       "      <td>0</td>\n",
       "      <td>0</td>\n",
       "      <td>0</td>\n",
       "      <td>0</td>\n",
       "      <td>0</td>\n",
       "      <td>1</td>\n",
       "    </tr>\n",
       "    <tr>\n",
       "      <th>2</th>\n",
       "      <td>2016-01-01</td>\n",
       "      <td>0:05</td>\n",
       "      <td>MANHATTAN</td>\n",
       "      <td>40.799258</td>\n",
       "      <td>-73.939050</td>\n",
       "      <td>3AVENUE</td>\n",
       "      <td>4</td>\n",
       "      <td>2016</td>\n",
       "      <td>1</td>\n",
       "      <td>1</td>\n",
       "      <td>0</td>\n",
       "      <td>2.0</td>\n",
       "      <td>0.0</td>\n",
       "      <td>0</td>\n",
       "      <td>0</td>\n",
       "      <td>0</td>\n",
       "      <td>0</td>\n",
       "      <td>2</td>\n",
       "      <td>0</td>\n",
       "      <td>1</td>\n",
       "    </tr>\n",
       "    <tr>\n",
       "      <th>3</th>\n",
       "      <td>2016-01-01</td>\n",
       "      <td>0:15</td>\n",
       "      <td>MANHATTAN</td>\n",
       "      <td>40.738552</td>\n",
       "      <td>-73.999682</td>\n",
       "      <td>7AVENUE</td>\n",
       "      <td>4</td>\n",
       "      <td>2016</td>\n",
       "      <td>1</td>\n",
       "      <td>1</td>\n",
       "      <td>0</td>\n",
       "      <td>0.0</td>\n",
       "      <td>0.0</td>\n",
       "      <td>0</td>\n",
       "      <td>0</td>\n",
       "      <td>0</td>\n",
       "      <td>0</td>\n",
       "      <td>0</td>\n",
       "      <td>0</td>\n",
       "      <td>1</td>\n",
       "    </tr>\n",
       "    <tr>\n",
       "      <th>4</th>\n",
       "      <td>2016-01-01</td>\n",
       "      <td>0:23</td>\n",
       "      <td>BROOKLYN</td>\n",
       "      <td>40.653419</td>\n",
       "      <td>-73.888970</td>\n",
       "      <td>GEORGIAAVENUE</td>\n",
       "      <td>4</td>\n",
       "      <td>2016</td>\n",
       "      <td>1</td>\n",
       "      <td>1</td>\n",
       "      <td>0</td>\n",
       "      <td>0.0</td>\n",
       "      <td>0.0</td>\n",
       "      <td>0</td>\n",
       "      <td>0</td>\n",
       "      <td>0</td>\n",
       "      <td>0</td>\n",
       "      <td>0</td>\n",
       "      <td>0</td>\n",
       "      <td>1</td>\n",
       "    </tr>\n",
       "  </tbody>\n",
       "</table>\n",
       "</div>"
      ],
      "text/plain": [
       "   CRASH DATE CRASH TIME    BOROUGH   LATITUDE  LONGITUDE ON STREET NAME  dow  \\\n",
       "0  2016-01-01       0:01  MANHATTAN  40.760223 -73.967462   EAST57STREET    4   \n",
       "1  2016-01-01       0:01  MANHATTAN  40.805057 -73.939034  EAST125STREET    4   \n",
       "2  2016-01-01       0:05  MANHATTAN  40.799258 -73.939050        3AVENUE    4   \n",
       "3  2016-01-01       0:15  MANHATTAN  40.738552 -73.999682        7AVENUE    4   \n",
       "4  2016-01-01       0:23   BROOKLYN  40.653419 -73.888970  GEORGIAAVENUE    4   \n",
       "\n",
       "   year  month  day  construction  NUMBER OF PERSONS INJURED  \\\n",
       "0  2016      1    1             0                        0.0   \n",
       "1  2016      1    1             0                        1.0   \n",
       "2  2016      1    1             0                        2.0   \n",
       "3  2016      1    1             0                        0.0   \n",
       "4  2016      1    1             0                        0.0   \n",
       "\n",
       "   NUMBER OF PERSONS KILLED  NUMBER OF PEDESTRIANS INJURED  \\\n",
       "0                       0.0                              0   \n",
       "1                       0.0                              1   \n",
       "2                       0.0                              0   \n",
       "3                       0.0                              0   \n",
       "4                       0.0                              0   \n",
       "\n",
       "   NUMBER OF PEDESTRIANS KILLED  NUMBER OF CYCLIST INJURED  \\\n",
       "0                             0                          0   \n",
       "1                             0                          0   \n",
       "2                             0                          0   \n",
       "3                             0                          0   \n",
       "4                             0                          0   \n",
       "\n",
       "   NUMBER OF CYCLIST KILLED  NUMBER OF MOTORIST INJURED  \\\n",
       "0                         0                           0   \n",
       "1                         0                           0   \n",
       "2                         0                           2   \n",
       "3                         0                           0   \n",
       "4                         0                           0   \n",
       "\n",
       "   NUMBER OF MOTORIST KILLED  Number of Accident  \n",
       "0                          0                   1  \n",
       "1                          0                   1  \n",
       "2                          0                   1  \n",
       "3                          0                   1  \n",
       "4                          0                   1  "
      ]
     },
     "execution_count": 38,
     "metadata": {},
     "output_type": "execute_result"
    }
   ],
   "source": [
    "df.head()"
   ]
  },
  {
   "cell_type": "code",
   "execution_count": null,
   "metadata": {},
   "outputs": [],
   "source": [
    "cor_list =  ['dow',\n",
    " 'year',\n",
    " 'month',\n",
    " 'day',\n",
    " 'construction',\n",
    " 'NUMBER OF PERSONS INJURED',\n",
    " 'NUMBER OF PERSONS KILLED',\n",
    " 'NUMBER OF PEDESTRIANS INJURED',\n",
    " 'NUMBER OF PEDESTRIANS KILLED',\n",
    " 'NUMBER OF CYCLIST INJURED',\n",
    " 'NUMBER OF CYCLIST KILLED',\n",
    " 'NUMBER OF MOTORIST INJURED',\n",
    " 'NUMBER OF MOTORIST KILLED',\n",
    " 'Number of Accident']\n",
    "df_cor = df[cor_list]"
   ]
  },
  {
   "cell_type": "code",
   "execution_count": null,
   "metadata": {},
   "outputs": [],
   "source": [
    "scaler = MinMaxScaler().fit(df_cor)\n",
    "trans = scaler.transform(df_cor)\n",
    "trans_cor = pd.DataFrame(trans,index=df_cor.index,columns=df_cor.columns)"
   ]
  },
  {
   "cell_type": "code",
   "execution_count": null,
   "metadata": {},
   "outputs": [],
   "source": [
    "def cor_heatmap(df):\n",
    "    plt.figure(figsize=(20,10))\n",
    "    cor = df.corr() #Calculate the correlation of the above variables\n",
    "    sns.heatmap(cor, annot = True) #Plot the correlation as heat map\n",
    "    plt.show()"
   ]
  },
  {
   "cell_type": "code",
   "execution_count": null,
   "metadata": {},
   "outputs": [],
   "source": [
    "plt.figure(figsize=(20,10))\n",
    "cor = trans_cor.corr() #Calculate the correlation of the above variables\n",
    "sns.heatmap(cor, annot = True) #Plot the correlation as heat map\n",
    "plt.show()"
   ]
  },
  {
   "cell_type": "code",
   "execution_count": null,
   "metadata": {},
   "outputs": [],
   "source": [
    "# There is no linear correlation base on the heatmap above."
   ]
  },
  {
   "cell_type": "markdown",
   "metadata": {},
   "source": [
    "## Kmeans"
   ]
  },
  {
   "cell_type": "code",
   "execution_count": null,
   "metadata": {},
   "outputs": [],
   "source": [
    "x_col = ['dow','year','month','day','construction',\n",
    "         'NUMBER OF PERSONS INJURED','Number of Accident']\n",
    "# x_col = ['NUMBER OF PERSONS INJURED','Number of Accident']"
   ]
  },
  {
   "cell_type": "code",
   "execution_count": null,
   "metadata": {},
   "outputs": [],
   "source": [
    "X = trans_cor[x_col]"
   ]
  },
  {
   "cell_type": "code",
   "execution_count": null,
   "metadata": {},
   "outputs": [],
   "source": [
    "cluster_range = range(2,5)\n",
    "for n_c in cluster_range:\n",
    "    silhouette = []\n",
    "    km = KMeans(random_state=2000, n_clusters=n_c, n_jobs=-1)\n",
    "    cluster_labels = km.fit(X).labels_\n",
    "    silhouette.append(silhouette_score(X, cluster_labels))\n",
    "    silhouette_avg = np.mean(silhouette)\n",
    "    print(\"For n_clusters = {},\".format(n_c)+\" the average silhouette_score is :{}\".format(silhouette_avg))"
   ]
  },
  {
   "cell_type": "code",
   "execution_count": null,
   "metadata": {},
   "outputs": [],
   "source": [
    "km = KMeans(random_state=2000, n_clusters=2, n_jobs=-1)\n",
    "cluster_labels = km.fit(X).labels_"
   ]
  },
  {
   "cell_type": "code",
   "execution_count": null,
   "metadata": {},
   "outputs": [],
   "source": [
    "km.cluster_centers_"
   ]
  },
  {
   "cell_type": "code",
   "execution_count": null,
   "metadata": {},
   "outputs": [],
   "source": [
    "df['labels'] = cluster_labels"
   ]
  },
  {
   "cell_type": "code",
   "execution_count": null,
   "metadata": {},
   "outputs": [],
   "source": [
    "label_0 = df[df['labels']==0]"
   ]
  },
  {
   "cell_type": "code",
   "execution_count": null,
   "metadata": {},
   "outputs": [],
   "source": [
    "label_1 = df[df['labels']==1]"
   ]
  },
  {
   "cell_type": "code",
   "execution_count": null,
   "metadata": {},
   "outputs": [],
   "source": [
    "kmean_1_0 = label_0[['CRASH DATE','NUMBER OF PERSONS INJURED','NUMBER OF PERSONS KILLED','construction','Number of Accident']] \\\n",
    "    .groupby('CRASH DATE').sum().reset_index()\n",
    "kmean_1_0"
   ]
  },
  {
   "cell_type": "code",
   "execution_count": null,
   "metadata": {},
   "outputs": [],
   "source": [
    "kmean_1_1 = label_1[['CRASH DATE','NUMBER OF PERSONS INJURED','NUMBER OF PERSONS KILLED','construction','Number of Accident']] \\\n",
    "    .groupby('CRASH DATE').sum().reset_index()\n",
    "kmean_1_1"
   ]
  },
  {
   "cell_type": "code",
   "execution_count": null,
   "metadata": {},
   "outputs": [],
   "source": [
    "import matplotlib.dates as mdates\n",
    "fig,axs = plt.subplots(2,2,figsize=(20, 10))\n",
    "# plt.locator_params(axis='x',nbins=10)\n",
    "axs[0,0].plot(kmean_1_0['CRASH DATE'],kmean_1_0['construction'])\n",
    "axs[0,0].axes.xaxis.set_visible(False)\n",
    "axs[0,0].set_title('cluster 0: construction')\n",
    "\n",
    "axs[0,1].plot(kmean_1_0['CRASH DATE'],kmean_1_0['Number of Accident'],c='red')\n",
    "axs[0,1].axes.xaxis.set_visible(False)\n",
    "axs[0,1].set_title('cluster 0: Number of Accident')\n",
    "\n",
    "axs[1,0].plot(kmean_1_1['CRASH DATE'],kmean_1_1['construction'])\n",
    "axs[1,0].axes.xaxis.set_visible(False)\n",
    "axs[1,0].set_title('cluster 1: construction')\n",
    "\n",
    "axs[1,1].plot(kmean_1_1['CRASH DATE'],kmean_1_1['Number of Accident'],c='red')\n",
    "axs[1,1].axes.xaxis.set_visible(False)\n",
    "axs[1,1].set_title('cluster 1: Number of Accident')\n",
    "plt.show()"
   ]
  },
  {
   "cell_type": "code",
   "execution_count": null,
   "metadata": {},
   "outputs": [],
   "source": [
    "from pandas.tseries.holiday import USFederalHolidayCalendar as calendar"
   ]
  },
  {
   "cell_type": "code",
   "execution_count": null,
   "metadata": {},
   "outputs": [],
   "source": [
    "kmean_1_0['CRASH DATE'] = pd.to_datetime(kmean_1_0['CRASH DATE'])\n",
    "kmean_1_1['CRASH DATE'] = pd.to_datetime(kmean_1_1['CRASH DATE'])"
   ]
  },
  {
   "cell_type": "code",
   "execution_count": null,
   "metadata": {
    "scrolled": true
   },
   "outputs": [],
   "source": [
    "kmean_1_0[kmean_1_0['holiday']==True]"
   ]
  },
  {
   "cell_type": "code",
   "execution_count": null,
   "metadata": {},
   "outputs": [],
   "source": [
    "plt.figure(figsize=(20,10))\n",
    "cor = kmean_1_0.corr() #Calculate the correlation of the above variables\n",
    "sns.heatmap(cor, annot = True) #Plot the correlation as heat map\n",
    "plt.show()"
   ]
  },
  {
   "cell_type": "code",
   "execution_count": null,
   "metadata": {
    "scrolled": true
   },
   "outputs": [],
   "source": [
    "kmean_1_1[kmean_1_1['holiday']==True]"
   ]
  },
  {
   "cell_type": "code",
   "execution_count": null,
   "metadata": {},
   "outputs": [],
   "source": [
    "plt.figure(figsize=(20,10))\n",
    "cor = kmean_1_1.corr() #Calculate the correlation of the above variables\n",
    "sns.heatmap(cor, annot = True) #Plot the correlation as heat map\n",
    "plt.show()"
   ]
  },
  {
   "cell_type": "code",
   "execution_count": null,
   "metadata": {},
   "outputs": [],
   "source": [
    "stat_con_acc(kmean_1_0)"
   ]
  },
  {
   "cell_type": "code",
   "execution_count": null,
   "metadata": {},
   "outputs": [],
   "source": [
    "stat_con_acc(kmean_1_1)"
   ]
  },
  {
   "cell_type": "code",
   "execution_count": null,
   "metadata": {},
   "outputs": [],
   "source": [
    "ttest_ind(kmean_1_0.construction,kmean_1_1.construction)"
   ]
  },
  {
   "cell_type": "code",
   "execution_count": null,
   "metadata": {},
   "outputs": [],
   "source": [
    "ttest_ind(kmean_1_0['Number of Accident'], kmean_1_1['Number of Accident'])"
   ]
  },
  {
   "cell_type": "code",
   "execution_count": null,
   "metadata": {},
   "outputs": [],
   "source": [
    "# Holiday analysis tells us that both clusters have same number of holidays"
   ]
  },
  {
   "cell_type": "markdown",
   "metadata": {},
   "source": [
    "### Kmeans with data that aggregated by date"
   ]
  },
  {
   "cell_type": "code",
   "execution_count": 4,
   "metadata": {},
   "outputs": [],
   "source": [
    "# Construction will be more related if we aggregate the data by date\n",
    "df_date = df[['CRASH DATE','NUMBER OF PERSONS INJURED','NUMBER OF PERSONS KILLED','construction','Number of Accident']] \\\n",
    "    .groupby('CRASH DATE').sum().reset_index()"
   ]
  },
  {
   "cell_type": "code",
   "execution_count": null,
   "metadata": {},
   "outputs": [],
   "source": [
    "X = df_date[['construction','Number of Accident']]"
   ]
  },
  {
   "cell_type": "code",
   "execution_count": null,
   "metadata": {},
   "outputs": [],
   "source": [
    "cluster_range = range(2,20)\n",
    "for n_c in cluster_range:\n",
    "    silhouette = []\n",
    "    for i in range(100):\n",
    "        km = KMeans(random_state=i*i, n_clusters=n_c, n_jobs=-1)\n",
    "        cluster_labels = km.fit(X).labels_\n",
    "        silhouette.append(silhouette_score(X, cluster_labels))\n",
    "    silhouette_avg = np.mean(silhouette)\n",
    "    print(\"For n_clusters = {},\".format(n_c)+\" the average silhouette_score is :{}\".format(silhouette_avg))"
   ]
  },
  {
   "cell_type": "code",
   "execution_count": null,
   "metadata": {},
   "outputs": [],
   "source": [
    "km = KMeans(random_state=2000, n_clusters=2, n_jobs=-1)\n",
    "cluster_labels = km.fit(X).labels_"
   ]
  },
  {
   "cell_type": "code",
   "execution_count": null,
   "metadata": {},
   "outputs": [],
   "source": [
    "df_date['label'] = cluster_labels\n",
    "date_0 = df_date[df_date['label'] == 0]\n",
    "cor_heatmap(date_0)"
   ]
  },
  {
   "cell_type": "code",
   "execution_count": null,
   "metadata": {},
   "outputs": [],
   "source": [
    "df_date['label'] = cluster_labels\n",
    "date_1 = df_date[df_date['label'] == 1]\n",
    "cor_heatmap(date_1)"
   ]
  },
  {
   "cell_type": "code",
   "execution_count": null,
   "metadata": {},
   "outputs": [],
   "source": [
    "import matplotlib.dates as mdates\n",
    "fig,axs = plt.subplots(2,2,figsize=(20, 10))\n",
    "# plt.locator_params(axis='x',nbins=10)\n",
    "axs[0,0].plot(date_0['CRASH DATE'],date_0['construction'])\n",
    "axs[0,0].axes.xaxis.set_visible(False)\n",
    "axs[0,0].set_title('cluster 0: construction')\n",
    "\n",
    "axs[0,1].plot(date_0['CRASH DATE'],date_0['Number of Accident'],c='red')\n",
    "axs[0,1].axes.xaxis.set_visible(False)\n",
    "axs[0,1].set_title('cluster 0: Number of Accident')\n",
    "\n",
    "axs[1,0].plot(date_1['CRASH DATE'],date_1['construction'])\n",
    "axs[1,0].axes.xaxis.set_visible(False)\n",
    "axs[1,0].set_title('cluster 1: construction')\n",
    "\n",
    "axs[1,1].plot(date_1['CRASH DATE'],date_1['Number of Accident'],c='red')\n",
    "axs[1,1].axes.xaxis.set_visible(False)\n",
    "axs[1,1].set_title('cluster 1: Number of Accident')\n",
    "plt.show()"
   ]
  },
  {
   "cell_type": "code",
   "execution_count": null,
   "metadata": {},
   "outputs": [],
   "source": [
    "def stat_con_acc (df):\n",
    "    avg_con = df.construction.mean()\n",
    "    avg_acc = df['Number of Accident'].mean()\n",
    "    median_con = df.construction.median()\n",
    "    median_acc = df['Number of Accident'].median()\n",
    "    print('Average number of Constructions: {}'.format(avg_con))\n",
    "    print('Average number of Accidents: {}'.format(avg_acc))\n",
    "    print('Median number of Constructions: {}'.format(median_con))\n",
    "    print('Median number of Accidents: {}'.format(median_acc))"
   ]
  },
  {
   "cell_type": "code",
   "execution_count": null,
   "metadata": {},
   "outputs": [],
   "source": [
    "stat_con_acc(date_0)"
   ]
  },
  {
   "cell_type": "code",
   "execution_count": null,
   "metadata": {},
   "outputs": [],
   "source": [
    "stat_con_acc(date_1)"
   ]
  },
  {
   "cell_type": "code",
   "execution_count": null,
   "metadata": {},
   "outputs": [],
   "source": [
    "ttest_ind(date_0['construction'], date_1['construction'])"
   ]
  },
  {
   "cell_type": "code",
   "execution_count": null,
   "metadata": {},
   "outputs": [],
   "source": [
    "ttest_ind(date_0['Number of Accident'], date_1['Number of Accident'])"
   ]
  },
  {
   "cell_type": "markdown",
   "metadata": {},
   "source": [
    "### Clustering with accident and construction independently"
   ]
  },
  {
   "cell_type": "code",
   "execution_count": 5,
   "metadata": {},
   "outputs": [
    {
     "data": {
      "text/html": [
       "<div>\n",
       "<style scoped>\n",
       "    .dataframe tbody tr th:only-of-type {\n",
       "        vertical-align: middle;\n",
       "    }\n",
       "\n",
       "    .dataframe tbody tr th {\n",
       "        vertical-align: top;\n",
       "    }\n",
       "\n",
       "    .dataframe thead th {\n",
       "        text-align: right;\n",
       "    }\n",
       "</style>\n",
       "<table border=\"1\" class=\"dataframe\">\n",
       "  <thead>\n",
       "    <tr style=\"text-align: right;\">\n",
       "      <th></th>\n",
       "      <th>CRASH DATE</th>\n",
       "      <th>CRASH TIME</th>\n",
       "      <th>BOROUGH</th>\n",
       "      <th>LATITUDE</th>\n",
       "      <th>LONGITUDE</th>\n",
       "      <th>ON STREET NAME</th>\n",
       "      <th>dow</th>\n",
       "      <th>year</th>\n",
       "      <th>month</th>\n",
       "      <th>day</th>\n",
       "      <th>construction</th>\n",
       "      <th>NUMBER OF PERSONS INJURED</th>\n",
       "      <th>NUMBER OF PERSONS KILLED</th>\n",
       "      <th>NUMBER OF PEDESTRIANS INJURED</th>\n",
       "      <th>NUMBER OF PEDESTRIANS KILLED</th>\n",
       "      <th>NUMBER OF CYCLIST INJURED</th>\n",
       "      <th>NUMBER OF CYCLIST KILLED</th>\n",
       "      <th>NUMBER OF MOTORIST INJURED</th>\n",
       "      <th>NUMBER OF MOTORIST KILLED</th>\n",
       "      <th>Number of Accident</th>\n",
       "    </tr>\n",
       "  </thead>\n",
       "  <tbody>\n",
       "    <tr>\n",
       "      <th>0</th>\n",
       "      <td>2016-01-01</td>\n",
       "      <td>0:01</td>\n",
       "      <td>MANHATTAN</td>\n",
       "      <td>40.760223</td>\n",
       "      <td>-73.967462</td>\n",
       "      <td>EAST57STREET</td>\n",
       "      <td>4</td>\n",
       "      <td>2016</td>\n",
       "      <td>1</td>\n",
       "      <td>1</td>\n",
       "      <td>0</td>\n",
       "      <td>0.0</td>\n",
       "      <td>0.0</td>\n",
       "      <td>0</td>\n",
       "      <td>0</td>\n",
       "      <td>0</td>\n",
       "      <td>0</td>\n",
       "      <td>0</td>\n",
       "      <td>0</td>\n",
       "      <td>1</td>\n",
       "    </tr>\n",
       "    <tr>\n",
       "      <th>1</th>\n",
       "      <td>2016-01-01</td>\n",
       "      <td>0:01</td>\n",
       "      <td>MANHATTAN</td>\n",
       "      <td>40.805057</td>\n",
       "      <td>-73.939034</td>\n",
       "      <td>EAST125STREET</td>\n",
       "      <td>4</td>\n",
       "      <td>2016</td>\n",
       "      <td>1</td>\n",
       "      <td>1</td>\n",
       "      <td>0</td>\n",
       "      <td>1.0</td>\n",
       "      <td>0.0</td>\n",
       "      <td>1</td>\n",
       "      <td>0</td>\n",
       "      <td>0</td>\n",
       "      <td>0</td>\n",
       "      <td>0</td>\n",
       "      <td>0</td>\n",
       "      <td>1</td>\n",
       "    </tr>\n",
       "    <tr>\n",
       "      <th>2</th>\n",
       "      <td>2016-01-01</td>\n",
       "      <td>0:05</td>\n",
       "      <td>MANHATTAN</td>\n",
       "      <td>40.799258</td>\n",
       "      <td>-73.939050</td>\n",
       "      <td>3AVENUE</td>\n",
       "      <td>4</td>\n",
       "      <td>2016</td>\n",
       "      <td>1</td>\n",
       "      <td>1</td>\n",
       "      <td>0</td>\n",
       "      <td>2.0</td>\n",
       "      <td>0.0</td>\n",
       "      <td>0</td>\n",
       "      <td>0</td>\n",
       "      <td>0</td>\n",
       "      <td>0</td>\n",
       "      <td>2</td>\n",
       "      <td>0</td>\n",
       "      <td>1</td>\n",
       "    </tr>\n",
       "    <tr>\n",
       "      <th>3</th>\n",
       "      <td>2016-01-01</td>\n",
       "      <td>0:15</td>\n",
       "      <td>MANHATTAN</td>\n",
       "      <td>40.738552</td>\n",
       "      <td>-73.999682</td>\n",
       "      <td>7AVENUE</td>\n",
       "      <td>4</td>\n",
       "      <td>2016</td>\n",
       "      <td>1</td>\n",
       "      <td>1</td>\n",
       "      <td>0</td>\n",
       "      <td>0.0</td>\n",
       "      <td>0.0</td>\n",
       "      <td>0</td>\n",
       "      <td>0</td>\n",
       "      <td>0</td>\n",
       "      <td>0</td>\n",
       "      <td>0</td>\n",
       "      <td>0</td>\n",
       "      <td>1</td>\n",
       "    </tr>\n",
       "    <tr>\n",
       "      <th>4</th>\n",
       "      <td>2016-01-01</td>\n",
       "      <td>0:23</td>\n",
       "      <td>BROOKLYN</td>\n",
       "      <td>40.653419</td>\n",
       "      <td>-73.888970</td>\n",
       "      <td>GEORGIAAVENUE</td>\n",
       "      <td>4</td>\n",
       "      <td>2016</td>\n",
       "      <td>1</td>\n",
       "      <td>1</td>\n",
       "      <td>0</td>\n",
       "      <td>0.0</td>\n",
       "      <td>0.0</td>\n",
       "      <td>0</td>\n",
       "      <td>0</td>\n",
       "      <td>0</td>\n",
       "      <td>0</td>\n",
       "      <td>0</td>\n",
       "      <td>0</td>\n",
       "      <td>1</td>\n",
       "    </tr>\n",
       "  </tbody>\n",
       "</table>\n",
       "</div>"
      ],
      "text/plain": [
       "   CRASH DATE CRASH TIME    BOROUGH   LATITUDE  LONGITUDE ON STREET NAME  dow  \\\n",
       "0  2016-01-01       0:01  MANHATTAN  40.760223 -73.967462   EAST57STREET    4   \n",
       "1  2016-01-01       0:01  MANHATTAN  40.805057 -73.939034  EAST125STREET    4   \n",
       "2  2016-01-01       0:05  MANHATTAN  40.799258 -73.939050        3AVENUE    4   \n",
       "3  2016-01-01       0:15  MANHATTAN  40.738552 -73.999682        7AVENUE    4   \n",
       "4  2016-01-01       0:23   BROOKLYN  40.653419 -73.888970  GEORGIAAVENUE    4   \n",
       "\n",
       "   year  month  day  construction  NUMBER OF PERSONS INJURED  \\\n",
       "0  2016      1    1             0                        0.0   \n",
       "1  2016      1    1             0                        1.0   \n",
       "2  2016      1    1             0                        2.0   \n",
       "3  2016      1    1             0                        0.0   \n",
       "4  2016      1    1             0                        0.0   \n",
       "\n",
       "   NUMBER OF PERSONS KILLED  NUMBER OF PEDESTRIANS INJURED  \\\n",
       "0                       0.0                              0   \n",
       "1                       0.0                              1   \n",
       "2                       0.0                              0   \n",
       "3                       0.0                              0   \n",
       "4                       0.0                              0   \n",
       "\n",
       "   NUMBER OF PEDESTRIANS KILLED  NUMBER OF CYCLIST INJURED  \\\n",
       "0                             0                          0   \n",
       "1                             0                          0   \n",
       "2                             0                          0   \n",
       "3                             0                          0   \n",
       "4                             0                          0   \n",
       "\n",
       "   NUMBER OF CYCLIST KILLED  NUMBER OF MOTORIST INJURED  \\\n",
       "0                         0                           0   \n",
       "1                         0                           0   \n",
       "2                         0                           2   \n",
       "3                         0                           0   \n",
       "4                         0                           0   \n",
       "\n",
       "   NUMBER OF MOTORIST KILLED  Number of Accident  \n",
       "0                          0                   1  \n",
       "1                          0                   1  \n",
       "2                          0                   1  \n",
       "3                          0                   1  \n",
       "4                          0                   1  "
      ]
     },
     "execution_count": 5,
     "metadata": {},
     "output_type": "execute_result"
    }
   ],
   "source": [
    "df.head()"
   ]
  },
  {
   "cell_type": "code",
   "execution_count": 39,
   "metadata": {},
   "outputs": [
    {
     "data": {
      "text/html": [
       "<div>\n",
       "<style scoped>\n",
       "    .dataframe tbody tr th:only-of-type {\n",
       "        vertical-align: middle;\n",
       "    }\n",
       "\n",
       "    .dataframe tbody tr th {\n",
       "        vertical-align: top;\n",
       "    }\n",
       "\n",
       "    .dataframe thead th {\n",
       "        text-align: right;\n",
       "    }\n",
       "</style>\n",
       "<table border=\"1\" class=\"dataframe\">\n",
       "  <thead>\n",
       "    <tr style=\"text-align: right;\">\n",
       "      <th></th>\n",
       "      <th>CRASH DATE</th>\n",
       "      <th>ON STREET NAME</th>\n",
       "      <th>Number of Accident</th>\n",
       "      <th>construction</th>\n",
       "    </tr>\n",
       "  </thead>\n",
       "  <tbody>\n",
       "    <tr>\n",
       "      <th>0</th>\n",
       "      <td>2016-01-01</td>\n",
       "      <td>2246</td>\n",
       "      <td>1</td>\n",
       "      <td>0</td>\n",
       "    </tr>\n",
       "    <tr>\n",
       "      <th>1</th>\n",
       "      <td>2016-01-01</td>\n",
       "      <td>2073</td>\n",
       "      <td>1</td>\n",
       "      <td>0</td>\n",
       "    </tr>\n",
       "    <tr>\n",
       "      <th>2</th>\n",
       "      <td>2016-01-01</td>\n",
       "      <td>472</td>\n",
       "      <td>1</td>\n",
       "      <td>0</td>\n",
       "    </tr>\n",
       "    <tr>\n",
       "      <th>3</th>\n",
       "      <td>2016-01-01</td>\n",
       "      <td>658</td>\n",
       "      <td>1</td>\n",
       "      <td>0</td>\n",
       "    </tr>\n",
       "    <tr>\n",
       "      <th>4</th>\n",
       "      <td>2016-01-01</td>\n",
       "      <td>2647</td>\n",
       "      <td>1</td>\n",
       "      <td>0</td>\n",
       "    </tr>\n",
       "    <tr>\n",
       "      <th>...</th>\n",
       "      <td>...</td>\n",
       "      <td>...</td>\n",
       "      <td>...</td>\n",
       "      <td>...</td>\n",
       "    </tr>\n",
       "    <tr>\n",
       "      <th>571569</th>\n",
       "      <td>2019-12-31</td>\n",
       "      <td>565</td>\n",
       "      <td>1</td>\n",
       "      <td>0</td>\n",
       "    </tr>\n",
       "    <tr>\n",
       "      <th>571570</th>\n",
       "      <td>2019-12-31</td>\n",
       "      <td>5022</td>\n",
       "      <td>1</td>\n",
       "      <td>0</td>\n",
       "    </tr>\n",
       "    <tr>\n",
       "      <th>571571</th>\n",
       "      <td>2019-12-31</td>\n",
       "      <td>4157</td>\n",
       "      <td>1</td>\n",
       "      <td>0</td>\n",
       "    </tr>\n",
       "    <tr>\n",
       "      <th>571572</th>\n",
       "      <td>2019-12-31</td>\n",
       "      <td>886</td>\n",
       "      <td>1</td>\n",
       "      <td>0</td>\n",
       "    </tr>\n",
       "    <tr>\n",
       "      <th>571573</th>\n",
       "      <td>2019-12-31</td>\n",
       "      <td>542</td>\n",
       "      <td>1</td>\n",
       "      <td>0</td>\n",
       "    </tr>\n",
       "  </tbody>\n",
       "</table>\n",
       "<p>571574 rows × 4 columns</p>\n",
       "</div>"
      ],
      "text/plain": [
       "        CRASH DATE  ON STREET NAME  Number of Accident  construction\n",
       "0       2016-01-01            2246                   1             0\n",
       "1       2016-01-01            2073                   1             0\n",
       "2       2016-01-01             472                   1             0\n",
       "3       2016-01-01             658                   1             0\n",
       "4       2016-01-01            2647                   1             0\n",
       "...            ...             ...                 ...           ...\n",
       "571569  2019-12-31             565                   1             0\n",
       "571570  2019-12-31            5022                   1             0\n",
       "571571  2019-12-31            4157                   1             0\n",
       "571572  2019-12-31             886                   1             0\n",
       "571573  2019-12-31             542                   1             0\n",
       "\n",
       "[571574 rows x 4 columns]"
      ]
     },
     "execution_count": 39,
     "metadata": {},
     "output_type": "execute_result"
    }
   ],
   "source": [
    "df_acc = df[['CRASH DATE','ON STREET NAME','Number of Accident','construction']]\n",
    "df_acc['ON STREET NAME'] = df_acc['ON STREET NAME'].astype('category')\n",
    "df_acc['ON STREET NAME'] = df_acc['ON STREET NAME'].cat.codes\n",
    "df_acc"
   ]
  },
  {
   "cell_type": "code",
   "execution_count": 41,
   "metadata": {},
   "outputs": [],
   "source": [
    "# Standardize\n",
    "# scaler = MinMaxScaler().fit(df_acc)\n",
    "# trans = scaler.transform(df_acc)\n",
    "# acc_trans = pd.DataFrame(trans,index=df_acc.index,columns=df_acc.columns)\n",
    "# acc_trans"
   ]
  },
  {
   "cell_type": "code",
   "execution_count": 10,
   "metadata": {},
   "outputs": [],
   "source": [
    "# X = acc_trans[['ON STREET NAME','Number of Accident']]\n",
    "X = df_acc[['Number of Accident']]\n",
    "cluster_range = range(2,20)\n",
    "for n_c in cluster_range:\n",
    "    silhouette = []\n",
    "    km = KMeans(random_state=2000, n_clusters=n_c, n_jobs=-1)\n",
    "    cluster_labels = km.fit(X).labels_\n",
    "    silhouette.append(silhouette_score(X, cluster_labels))\n",
    "    silhouette_avg = np.mean(silhouette)\n",
    "    print(\"For n_clusters = {},\".format(n_c)+\" the average silhouette_score is :{}\".format(silhouette_avg))"
   ]
  },
  {
   "cell_type": "code",
   "execution_count": 11,
   "metadata": {},
   "outputs": [],
   "source": [
    "km = KMeans(random_state=2000, n_clusters=3, n_jobs=-1)\n",
    "cluster_labels = km.fit(X).labels_"
   ]
  },
  {
   "cell_type": "code",
   "execution_count": 13,
   "metadata": {},
   "outputs": [],
   "source": [
    "df_acc['labels'] = cluster_labels"
   ]
  },
  {
   "cell_type": "code",
   "execution_count": 34,
   "metadata": {},
   "outputs": [
    {
     "data": {
      "text/plain": [
       "570108"
      ]
     },
     "execution_count": 34,
     "metadata": {},
     "output_type": "execute_result"
    }
   ],
   "source": [
    "df_0 = df_acc[df_acc['labels']==0]\n"
   ]
  },
  {
   "cell_type": "code",
   "execution_count": 35,
   "metadata": {},
   "outputs": [
    {
     "data": {
      "text/plain": [
       "1424"
      ]
     },
     "execution_count": 35,
     "metadata": {},
     "output_type": "execute_result"
    }
   ],
   "source": [
    "df_1 = df_acc[df_acc['labels']==1]\n",
    "len(df_1)"
   ]
  },
  {
   "cell_type": "code",
   "execution_count": 36,
   "metadata": {},
   "outputs": [
    {
     "data": {
      "text/plain": [
       "42"
      ]
     },
     "execution_count": 36,
     "metadata": {},
     "output_type": "execute_result"
    }
   ],
   "source": [
    "df_2 = df_acc[df_acc['labels']==2]\n",
    "len(df_2)"
   ]
  },
  {
   "cell_type": "markdown",
   "metadata": {},
   "source": [
    "### Random Forest"
   ]
  },
  {
   "cell_type": "code",
   "execution_count": null,
   "metadata": {},
   "outputs": [],
   "source": [
    "from sklearn.model_selection import train_test_split\n",
    "from sklearn.preprocessing import StandardScaler\n",
    "from sklearn.ensemble import RandomForestRegressor\n",
    "from sklearn.metrics import accuracy_score\n",
    "import operator"
   ]
  },
  {
   "cell_type": "code",
   "execution_count": null,
   "metadata": {},
   "outputs": [],
   "source": [
    "df_date = df[['CRASH DATE','construction','Number of Accident']] \\\n",
    "    .groupby('CRASH DATE').sum().reset_index()\n",
    "df_date['CRASH DATE'] = pd.to_datetime(df_date['CRASH DATE'])"
   ]
  },
  {
   "cell_type": "code",
   "execution_count": null,
   "metadata": {},
   "outputs": [],
   "source": [
    "df_date['dow'] = df_date['CRASH DATE'].dt.dayofweek\n",
    "df_date['year'] = df_date['CRASH DATE'].dt.year\n",
    "df_date['month'] = df_date['CRASH DATE'].dt.month\n",
    "df_date['day'] = df_date['CRASH DATE'].dt.day\n",
    "model_train = df_date[df_date['year']!=2019]\n",
    "model_train.head(5)"
   ]
  },
  {
   "cell_type": "code",
   "execution_count": null,
   "metadata": {},
   "outputs": [],
   "source": [
    "model_test = df_date[df_date['year']==2019]\n",
    "model_test.head(5)"
   ]
  },
  {
   "cell_type": "code",
   "execution_count": null,
   "metadata": {},
   "outputs": [],
   "source": [
    "X = model_train[['construction','dow','year','month','day']]\n",
    "y = model_train['Number of Accident']\n",
    "\n",
    "X_train = model_train[['construction','dow','year','month','day']]\n",
    "y_train = model_train['Number of Accident']\n",
    "\n",
    "X_test = model_test[['construction','dow','year','month','day']]\n",
    "y_test = model_test['Number of Accident']"
   ]
  },
  {
   "cell_type": "code",
   "execution_count": null,
   "metadata": {},
   "outputs": [],
   "source": [
    "# X_train, X_test, y_train, y_test = train_test_split(X, y, test_size=0.2, random_state=2020,shuffle=False)\n",
    "# X_train, X_val, y_train, y_val = train_test_split(X_train, y_train, test_size=0.25,random_state=2020,shuffle=False)\n",
    "\n",
    "rf = RandomForestRegressor(n_estimators=1000, random_state=0)\n",
    "rf.fit(X_train, y_train)"
   ]
  },
  {
   "cell_type": "code",
   "execution_count": null,
   "metadata": {},
   "outputs": [],
   "source": [
    "# \n",
    "rf.score(X_test, y_test)"
   ]
  },
  {
   "cell_type": "code",
   "execution_count": null,
   "metadata": {},
   "outputs": [],
   "source": [
    "depth_R2 = {}\n",
    "for depth in np.linspace(2, 2000, 100): # try 2-10 depths\n",
    "    \n",
    "    rf = RandomForestRegressor(max_depth=depth)\n",
    "    rf.fit(X_train, y_train)\n",
    "\n",
    "    depth_R2[depth] = rf.score(X_val, y_val)\n",
    "    \n",
    "print(f'Best max_depth: ', max(depth_R2.items(), key=operator.itemgetter(1))[0])"
   ]
  },
  {
   "cell_type": "code",
   "execution_count": null,
   "metadata": {},
   "outputs": [],
   "source": [
    "# optimize the max_depth parameter\n",
    "leaf_R2 = {}\n",
    "for nodes in np.linspace(20, 2000, 100): \n",
    "    \n",
    "    rf = RandomForestRegressor(max_depth=206, max_leaf_nodes=int(nodes))\n",
    "    rf.fit(X_train, y_train)\n",
    "\n",
    "    leaf_R2[nodes] = rf.score(X_val, y_val)\n",
    "print(f'Best leaf_nodes: ', max(leaf_R2.items(), key=operator.itemgetter(1))[0])"
   ]
  },
  {
   "cell_type": "code",
   "execution_count": null,
   "metadata": {},
   "outputs": [],
   "source": [
    "param_grid = {'kpca__gamma':np.linspace(0.001, 0.1, 20)}\n",
    "cv = GridSearchCV(pipe, param_grid, n_jobs=-1,verbose=5,cv=4,scoring='accuracy') "
   ]
  },
  {
   "cell_type": "markdown",
   "metadata": {},
   "source": [
    "## Limitation of this Dataset"
   ]
  },
  {
   "cell_type": "markdown",
   "metadata": {},
   "source": [
    "The performance of the Kmeans model shows the limitation of our dataset. The dataset was acquired using the NYC construction petmit and Motor Vehicle collisions dataset. Our initial assumptions are the dateset is missing informations about the length of the street or the amount of activity of a street, and we got the number of constructions using the IssuedWorkStartDate and IssuedWorkEndDate. These two features do not tell if there were constructions actually happening on the street. Thus, the dateset will not give me perfect analysis on the relationship between constructions and accidents, and the result matches our assumptions."
   ]
  },
  {
   "cell_type": "markdown",
   "metadata": {},
   "source": [
    "## Holiday Analysis"
   ]
  },
  {
   "cell_type": "code",
   "execution_count": null,
   "metadata": {},
   "outputs": [],
   "source": [
    "dr = pd.date_range(start='2016-01-01', end='2019-12-31')\n",
    "cal = calendar()\n",
    "holidays = cal.holidays(start=dr.min(), end=dr.max())\n",
    "df_holiday = df.copy()"
   ]
  },
  {
   "cell_type": "code",
   "execution_count": null,
   "metadata": {},
   "outputs": [],
   "source": [
    "df_holiday['CRASH DATE'] = pd.to_datetime(df_holiday['CRASH DATE'])\n",
    "df_holiday['holiday'] = df_holiday['CRASH DATE'].isin(holidays)"
   ]
  },
  {
   "cell_type": "code",
   "execution_count": null,
   "metadata": {},
   "outputs": [],
   "source": [
    "df_holiday['holiday'] = df_holiday['holiday'].replace(True,1)\n",
    "df_holiday['holiday'] = df_holiday['holiday'].replace(False,0)\n",
    "# holiday_0 = df_holiday[df_holiday['holiday']==0]\n",
    "# holiday_1 = df_holiday[df_holiday['holiday']==1]"
   ]
  },
  {
   "cell_type": "code",
   "execution_count": null,
   "metadata": {},
   "outputs": [],
   "source": [
    "# fig,axs = plt.subplots(2,2,figsize=(20, 10))\n",
    "# # plt.locator_params(axis='x',nbins=10)\n",
    "# axs[0,0].plot(holiday_0['CRASH DATE'],holiday_0['construction'])\n",
    "# axs[0,0].axes.xaxis.set_visible(False)\n",
    "# axs[0,0].set_title('cluster 0: construction')\n",
    "\n",
    "# axs[0,1].plot(holiday_0['CRASH DATE'],holiday_0['Number of Accident'],c='red')\n",
    "# axs[0,1].axes.xaxis.set_visible(False)\n",
    "# axs[0,1].set_title('cluster 0: Number of Accident')\n",
    "\n",
    "# axs[1,0].plot(holiday_1['CRASH DATE'],holiday_1['construction'])\n",
    "# axs[1,0].axes.xaxis.set_visible(False)\n",
    "# axs[1,0].set_title('cluster 1: construction')\n",
    "\n",
    "# axs[1,1].plot(holiday_1['CRASH DATE'],holiday_1['Number of Accident'],c='red')\n",
    "# axs[1,1].axes.xaxis.set_visible(False)\n",
    "# axs[1,1].set_title('cluster 1: Number of Accident')\n",
    "# plt.show()"
   ]
  },
  {
   "cell_type": "code",
   "execution_count": null,
   "metadata": {},
   "outputs": [],
   "source": [
    "X = df_holiday[['construction','Number of Accident','holiday']]\n",
    "cluster_range = range(2,20)\n",
    "for n_c in cluster_range:\n",
    "    silhouette = []\n",
    "    for i in range(100):\n",
    "        km = KMeans(random_state=i*i, n_clusters=n_c, n_jobs=-1)\n",
    "        cluster_labels = km.fit(X).labels_\n",
    "        silhouette.append(silhouette_score(X, cluster_labels))\n",
    "    silhouette_avg = np.mean(silhouette)\n",
    "    print(\"For n_clusters = {},\".format(n_c)+\" the average silhouette_score is :{}\".format(silhouette_avg))"
   ]
  },
  {
   "cell_type": "markdown",
   "metadata": {},
   "source": [
    "### Old dataset"
   ]
  },
  {
   "cell_type": "code",
   "execution_count": null,
   "metadata": {},
   "outputs": [],
   "source": [
    "df_crash_permit = pd.read_csv('crash_permit.csv')\n",
    "df_crash_permit"
   ]
  },
  {
   "cell_type": "code",
   "execution_count": null,
   "metadata": {},
   "outputs": [],
   "source": []
  }
 ],
 "metadata": {
  "kernelspec": {
   "display_name": "Python 3",
   "language": "python",
   "name": "python3"
  },
  "language_info": {
   "codemirror_mode": {
    "name": "ipython",
    "version": 3
   },
   "file_extension": ".py",
   "mimetype": "text/x-python",
   "name": "python",
   "nbconvert_exporter": "python",
   "pygments_lexer": "ipython3",
   "version": "3.8.5"
  }
 },
 "nbformat": 4,
 "nbformat_minor": 4
}
